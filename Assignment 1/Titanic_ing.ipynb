{
 "cells": [
  {
   "cell_type": "code",
   "execution_count": 16,
   "metadata": {},
   "outputs": [],
   "source": [
    "# data analysis and wrangling\n",
    "import copy\n",
    "import pandas as pd\n",
    "import numpy as np\n",
    "import random as rnd\n",
    "\n",
    "# visualization\n",
    "import seaborn as sns\n",
    "import matplotlib.pyplot as plt\n",
    "%matplotlib inline\n",
    "\n",
    "# machine learning\n",
    "from sklearn.linear_model import LogisticRegression\n",
    "from sklearn.svm import SVC, LinearSVC\n",
    "from sklearn.ensemble import RandomForestClassifier\n",
    "from sklearn.neighbors import KNeighborsClassifier\n",
    "from sklearn.naive_bayes import GaussianNB\n",
    "from sklearn.linear_model import Perceptron\n",
    "from sklearn.linear_model import SGDClassifier\n",
    "from sklearn.tree import DecisionTreeClassifier"
   ]
  },
  {
   "cell_type": "markdown",
   "metadata": {},
   "source": [
    "# 2A: Preparation\n",
    "Eerst data inlezen:"
   ]
  },
  {
   "cell_type": "code",
   "execution_count": 93,
   "metadata": {},
   "outputs": [],
   "source": [
    "# Training data\n",
    "train = pd.read_csv('train.csv', sep=',')\n",
    "train.describe(include='all')\n",
    "# Inladen van de testdata:\n",
    "test = pd.read_csv('test.csv', sep=',')\n",
    "# Beide\n",
    "all_data = [train, test]"
   ]
  },
  {
   "cell_type": "markdown",
   "metadata": {},
   "source": [
    "Attributes: *ID, Survived, Pclass, Name, Sex, Age, SibSp, Parch, Ticket, Fare, Cabin, Embarked*\n",
    "\n",
    "Nu kijken welke datatypes het zijn:"
   ]
  },
  {
   "cell_type": "code",
   "execution_count": null,
   "metadata": {},
   "outputs": [],
   "source": [
    "int_columns = list(train.columns[train.dtypes == 'int64'])\n",
    "float_columns = list(train.columns[train.dtypes == 'float64'])\n",
    "string_columns = list(train.columns[train.dtypes == 'object'])\n",
    "\n",
    "print(f\"Integer columns: {int_columns}\")\n",
    "print(f\"Float columns: {float_columns}\")\n",
    "print(f\"String columns: {string_columns}\")"
   ]
  },
  {
   "cell_type": "code",
   "execution_count": null,
   "metadata": {},
   "outputs": [],
   "source": [
    "train.info()"
   ]
  },
  {
   "cell_type": "code",
   "execution_count": null,
   "metadata": {},
   "outputs": [],
   "source": [
    "test.info()"
   ]
  },
  {
   "cell_type": "markdown",
   "metadata": {},
   "source": [
    "Kijken voor de kolommen hoe de kolommen eruit zien:"
   ]
  },
  {
   "cell_type": "code",
   "execution_count": null,
   "metadata": {
    "scrolled": false
   },
   "outputs": [],
   "source": [
    "# Eerst de integer kolommen\n",
    "\n",
    "train['PassengerId'] # Gewoon ID's, hebben we waarschijnlijk niet heel veel aan\n",
    "\n",
    "train['Survived'] # Of ze het overleefd hebben; binair;  uitkomst variabele;  0=nee, 1=ja   \n",
    "train['Survived'].value_counts() # 38% (342) heeft het overleefd\n",
    "\n",
    "train['Pclass'] # Klasse waarin ze reisden; ordinaal;  1=eerste,2=tweede,3=derde\n",
    "train['Pclass'].value_counts() # 3: 491,  2: 216,  1: 184\n",
    "\n",
    "train['SibSp'] # Aantal broertjes/partners aan boord;  discreet\n",
    "train['SibSp'].value_counts() # 0: 608,  1: 209,  2: 28,  3: 16,  4: 18,  5: 5,  8: 7\n",
    "\n",
    "train['Parch'] # Aantal ouders/kinderen aan boord;  discreet\n",
    "train['Parch'].value_counts() #0: 678,  1: 118,  2: 80,  3: 5,  4: 4,  5: 5,  6: 1\n",
    "\n",
    "# Nu de float kolommen\n",
    "\n",
    "train['Age'] # Leeftijd;    continue;\n",
    "train['Age'].isnull().sum() # 177 NA's\n",
    "np.mean(train['Age']) # Gemiddelde leeftijd = 29.7\n",
    "np.std(train['Age']) # Met een std van 14.5\n",
    "\n",
    "train['Fare'] # Ticket prijs    continue\n",
    "np.mean(train['Fare']) # Gemiddelde fare van 32.2\n",
    "np.std(train['Fare']) # Met een std van 49.6\n",
    "\n",
    "# Nu de string kolommen\n",
    "\n",
    "train['Name'] # Namen, hebben we niet heel veel aan waarschijnlijk\n",
    "\n",
    "train['Sex'] # Geslacht; male=man, female=vrouw\n",
    "train['Sex'].value_counts()  # 577 mannen,   314 vrouwen\n",
    "\n",
    "train['Ticket'] # Ticket nummer, lijkt me ook niet relevant\n",
    "\n",
    "train['Cabin'] # Hun cabine nummer, heel veel NA's\n",
    "train['Cabin'].isnull().sum() # 687/891 NA's\n",
    "\n",
    "train['Embarked'] # Waar ze opgestapt zijn;  C = Cherbourg, Q = Queenstown, S = Southampton\n",
    "train['Embarked'].value_counts(dropna=False) # S: 644,  C: 168,  Q: 77    2 NA's\n",
    "\n",
    "print(train.isnull().sum()) # Age heeft 177 NA's en Cabin 687, Embarked 2"
   ]
  },
  {
   "cell_type": "markdown",
   "metadata": {},
   "source": [
    "Eerst wat descriptive plots van de continue variabelen:"
   ]
  },
  {
   "cell_type": "code",
   "execution_count": null,
   "metadata": {
    "scrolled": false
   },
   "outputs": [],
   "source": [
    "f, _ = plt.subplots(2, 2, figsize=(10,5))\n",
    "plt.subplot(1,2,1)\n",
    "sns.boxplot(train['Age'])\n",
    "plt.subplot(1,2,2)\n",
    "sns.boxplot(train['Fare']) # Een outlier op rechts"
   ]
  },
  {
   "cell_type": "markdown",
   "metadata": {},
   "source": [
    "Er is één grote outlier bij Fare waar waarschijnlijk iets mee gedaan moet worden. Moeten we ook iets met de rest doen? En er zijn bij Age en Fare blijkbaar 0-values. Zijn dit pasgeboren baby's en mensen die gratis reisden of zijn dit ook missing value's?"
   ]
  },
  {
   "cell_type": "code",
   "execution_count": null,
   "metadata": {},
   "outputs": [],
   "source": [
    "sns.barplot(train['Survived'], train['Fare'])"
   ]
  },
  {
   "cell_type": "markdown",
   "metadata": {},
   "source": [
    "Aan dit plotje te zien is de gemiddelde Fare bij overlevenden groter dan bij niet-overlevenden. Komt dit doordat ze in een betere klasse zaten of door de outlier of is er een andere reden?"
   ]
  },
  {
   "cell_type": "code",
   "execution_count": null,
   "metadata": {
    "scrolled": false
   },
   "outputs": [],
   "source": [
    "plt.figure(figsize=(15,10))\n",
    "plt.subplot(1,3,1)\n",
    "sns.barplot(train['Pclass'], train['Fare'])\n",
    "plt.subplot(1,3,2)\n",
    "sns.barplot(train['Survived'], train['Fare'], train['Pclass'])\n",
    "plt.subplot(1,3,3)\n",
    "sns.countplot(train['Survived'], hue=train['Pclass'])"
   ]
  },
  {
   "cell_type": "markdown",
   "metadata": {},
   "source": [
    "De Fare van de eerste klasse was significant veel hoger. Er is ook een significant verschil qua prijs tussen de mensen die het wel overleefd hebben en 1e klasse reisden vs de mensen die het niet overleefd hebben en 1e klas reisden. Kregen de mensen die veel geld betaalden voorrang? De mensen die het niet overleefd hebben kwamen voornamelijk uit de 3e klasse. Wijst er ook op dat dat een factor kan zijn"
   ]
  },
  {
   "cell_type": "markdown",
   "metadata": {},
   "source": [
    "Kijken hoe de leeftijd en het geslacht verdeeld is onder de overlevenden:"
   ]
  },
  {
   "cell_type": "code",
   "execution_count": null,
   "metadata": {
    "scrolled": true
   },
   "outputs": [],
   "source": [
    "plt.figure(figsize = (15,10))\n",
    "plt.subplot(1,3,1)\n",
    "sns.countplot(train['Survived'], hue=train['Sex']) # Veel meer mannen die het niet overleefd hebben\n",
    "plt.subplot(1,3,2)\n",
    "sns.barplot(train['Survived'], train['Age']) # Bij leeftijd niet echt een verschil te zien\n",
    "plt.subplot(1,3,3)\n",
    "sns.barplot(train['Survived'], train['Age'], train['Sex']) # Gem leeftijd van overleden mannen is hoger dan overleden vrouwen."
   ]
  },
  {
   "cell_type": "markdown",
   "metadata": {},
   "source": [
    "Er zijn veel meer mannen dan vrouwen overleden. Ook zijn er veel meer vrouwen dan mannen die het wel hebben overleefd. Bij de gemiddelde leeftijs is geen groot verschil te zien, behalve als je gaat filteren op geslacht. De gemiddelde leeftijd van overleden mannen is groter dan van overleden vrouwen. De leeftijd van overlevende mannen/vrouwen is ong gelijk"
   ]
  },
  {
   "cell_type": "markdown",
   "metadata": {},
   "source": [
    "Kijken hoe het aantal familieleden/partners verdeeld is:"
   ]
  },
  {
   "cell_type": "code",
   "execution_count": null,
   "metadata": {},
   "outputs": [],
   "source": [
    "plt.figure(figsize = (15,10))\n",
    "plt.subplot(2,2,1)\n",
    "sns.countplot(train['Parch'], hue=train['Sex']) # Meer mannen dan vrouwen zonder ouders/kinderen\n",
    "plt.subplot(2,2,2)\n",
    "sns.countplot(train['SibSp'], hue=train['Sex']) # Meer mannen dan vrouwen zonder broers\n",
    "plt.subplot(2,2,3)\n",
    "sns.countplot(train['Parch'], hue=train['Survived']) # Dus ook veel mensen zonder familie die gestorven zijn\n",
    "plt.subplot(2,2,4)\n",
    "sns.countplot(train['SibSp'], hue=train['Survived']) # Is logisch want meer mannen overleden en meer mannen alleen -> meer mensen alleen overleden"
   ]
  },
  {
   "cell_type": "markdown",
   "metadata": {},
   "source": [
    "Er zijn veel meer mannen die geen ouders/kinderen of broers/geliefdes hebben dan vrouwen. Bij mensen die wel familie hebben is de man-vrouw verdeling 50-50. Dit geldt ook voor de verdeling van overlevenden onder de mensen: De verhouding van mensen die niet overleden tegenover wel overleden is veel groter bij mensen zonder familie dan bij mensen met."
   ]
  },
  {
   "cell_type": "markdown",
   "metadata": {},
   "source": [
    "Kijken naar Embarked:"
   ]
  },
  {
   "cell_type": "code",
   "execution_count": null,
   "metadata": {
    "scrolled": true
   },
   "outputs": [],
   "source": [
    "sns.countplot(train['Embarked']) # Meeste komen uit Southampton\n",
    "plt.subplot(1,2,1)\n",
    "sns.countplot(train['Embarked'], hue=train['Survived']) # Meer mensen uit Southampton niet dan wel overleefd\n",
    "plt.subplot(1,2,2)\n",
    "sns.countplot(train['Embarked'], hue=train['Sex']) # Waren ook veel meer mannen uit Southampton"
   ]
  },
  {
   "cell_type": "markdown",
   "metadata": {},
   "source": [
    "Ong 2/3 van de mensen die in Southampton zijn opgestapt zijn overleden. Dit komt ong overeen met de man/vrouw verhouding. Voor Cherbourg zijn deze verhoudingen een beetje omgedraaid, maar het is de vraag of dit significant is. Voor Queenstown is het ongeveer hetzelfde"
   ]
  },
  {
   "cell_type": "markdown",
   "metadata": {},
   "source": [
    "Kijken naar Pclass:"
   ]
  },
  {
   "cell_type": "code",
   "execution_count": null,
   "metadata": {
    "scrolled": false
   },
   "outputs": [],
   "source": [
    "# sns.countplot(tit_copy['Pclass'])  # Veel meer mensen derde klasse\n",
    "plt.figure(figsize=(15,10))\n",
    "plt.subplot(1,2,1)\n",
    "sns.countplot(train['Pclass'], hue=train['Survived']) # In derde klasse veel meer mensen niet overleefd, in 1e klasse wel\n",
    "plt.subplot(1,2,2)\n",
    "sns.countplot(train['Pclass'], hue=train['Sex']) # Veel meer mannen in derde klasse, ook wat meer in eerste klasse wel"
   ]
  },
  {
   "cell_type": "markdown",
   "metadata": {},
   "source": [
    "De verdeling van het aantal overledenen in de derde klasse komt overeen met de verdeling man/vrouw. De verdeling overlevenden in de eerste klasse is wat omgekeerd: meer overlevenden in de eerste klasse, maar ook meer mannen in eerste klasse. Zou erop kunnen wijzen dat de klasse waarin je reist ook gecorreleerd is met de  overlevingskans?"
   ]
  },
  {
   "cell_type": "code",
   "execution_count": null,
   "metadata": {
    "scrolled": false
   },
   "outputs": [],
   "source": [
    "plt.figure(figsize = (15,10))\n",
    "plt.subplot(1,2,1)\n",
    "sns.barplot(train['Embarked'], train['Pclass'])\n",
    "plt.subplot(1,2,2)\n",
    "sns.barplot(train['Embarked'], train['Survived'])"
   ]
  },
  {
   "cell_type": "markdown",
   "metadata": {},
   "source": [
    "Mensen uit Cherbourg zaten gemiddeld genomen in de beste klasse en daarvan heeft het hoogste percentage het overleefd"
   ]
  },
  {
   "cell_type": "code",
   "execution_count": null,
   "metadata": {
    "scrolled": true
   },
   "outputs": [],
   "source": [
    "sns.countplot(train['Age'], hue=train['Sex']) "
   ]
  },
  {
   "cell_type": "markdown",
   "metadata": {},
   "source": [
    "#### Correlating the features with survival / with each other"
   ]
  },
  {
   "cell_type": "code",
   "execution_count": null,
   "metadata": {},
   "outputs": [],
   "source": [
    "# Correlation between survival and age for man\n",
    "man = sns.FacetGrid(train[train[\"Sex\"]==\"male\"], col='Survived')\n",
    "man.map(plt.hist, 'Age', bins=20)"
   ]
  },
  {
   "cell_type": "markdown",
   "metadata": {},
   "source": [
    "Er zijn meer mannen overleden. De verdeling van leeftijden is gecentreerd rond leeftijden van 20-30 jaar, met een onset van 18 jaar."
   ]
  },
  {
   "cell_type": "code",
   "execution_count": null,
   "metadata": {},
   "outputs": [],
   "source": [
    "# Correlation between survival and age for woman\n",
    "vrouw = sns.FacetGrid(train[train[\"Sex\"]==\"female\"], col='Survived')\n",
    "vrouw.map(plt.hist, 'Age', bins=20)"
   ]
  },
  {
   "cell_type": "markdown",
   "metadata": {},
   "source": [
    "Bij vrouwen was de leeftijd van overlijden vrij constant, maar de leeftijd van overleden piekt bij leeftijden onder de 5 jaar en valt dan weg tussen 5 en 18 jaar. Vanaf ongeveer 18 jaar is er een piek tot 45 jaar. Hierna is het aantal overlevenden een stuk lager."
   ]
  },
  {
   "cell_type": "markdown",
   "metadata": {},
   "source": [
    "### Data pre-processing"
   ]
  },
  {
   "cell_type": "markdown",
   "metadata": {},
   "source": [
    "#### Remove NA's for age and embarked (and fare for test set):"
   ]
  },
  {
   "cell_type": "code",
   "execution_count": 94,
   "metadata": {},
   "outputs": [],
   "source": [
    "# Remove NA's for fare (only in test set)\n",
    "test['Fare'] = test['Fare'].fillna(test.Age.dropna().mode()[0])"
   ]
  },
  {
   "cell_type": "markdown",
   "metadata": {},
   "source": [
    "Voor Embarked: gewoon de waarde van de persoon ervoor gebruiken. Het zijn maar 2 NA's, dus zou niet zoveel uit moeten maken als je bedenkt dat er 891 personen en drie stations zijn."
   ]
  },
  {
   "cell_type": "code",
   "execution_count": 95,
   "metadata": {},
   "outputs": [],
   "source": [
    "# Remove NA's for embarked (only in training set)\n",
    "train['Embarked'].fillna(method='ffill', inplace=True)"
   ]
  },
  {
   "cell_type": "code",
   "execution_count": 96,
   "metadata": {},
   "outputs": [
    {
     "name": "stdout",
     "output_type": "stream",
     "text": [
      "PassengerId      0\n",
      "Survived         0\n",
      "Pclass           0\n",
      "Name             0\n",
      "Sex              0\n",
      "Age            177\n",
      "SibSp            0\n",
      "Parch            0\n",
      "Ticket           0\n",
      "Fare             0\n",
      "Cabin          687\n",
      "Embarked         0\n",
      "dtype: int64\n"
     ]
    }
   ],
   "source": [
    "### Checken of alles van tit_copy is gelukt:\n",
    "print(train.isnull().sum())"
   ]
  },
  {
   "cell_type": "code",
   "execution_count": 97,
   "metadata": {},
   "outputs": [
    {
     "name": "stdout",
     "output_type": "stream",
     "text": [
      "PassengerId      0\n",
      "Pclass           0\n",
      "Name             0\n",
      "Sex              0\n",
      "Age             86\n",
      "SibSp            0\n",
      "Parch            0\n",
      "Ticket           0\n",
      "Fare             0\n",
      "Cabin          327\n",
      "Embarked         0\n",
      "dtype: int64\n"
     ]
    }
   ],
   "source": [
    "### Checken of alles van test_copy is gelukt:\n",
    "print(test.isnull().sum())"
   ]
  },
  {
   "cell_type": "markdown",
   "metadata": {},
   "source": [
    "Voor Age: mean van mannen en vrouwen gebruiken en die voor hun respectievelijke NA's geruiken"
   ]
  },
  {
   "cell_type": "code",
   "execution_count": 98,
   "metadata": {},
   "outputs": [
    {
     "data": {
      "text/plain": [
       "<matplotlib.axes._subplots.AxesSubplot at 0x1a25f401d0>"
      ]
     },
     "execution_count": 98,
     "metadata": {},
     "output_type": "execute_result"
    },
    {
     "data": {
      "image/png": "[encoded data removed]",
      "text/plain": [
       "<Figure size 720x360 with 2 Axes>"
      ]
     },
     "metadata": {
      "needs_background": "light"
     },
     "output_type": "display_data"
    },
    {
     "data": {
      "image/png": "[encoded data removed]",
      "text/plain": [
       "<Figure size 1080x720 with 3 Axes>"
      ]
     },
     "metadata": {
      "needs_background": "light"
     },
     "output_type": "display_data"
    }
   ],
   "source": [
    "train.Age = train['Age']\n",
    "# Mannen en vrouwen onderscheiden\n",
    "male = train[train['Sex'] == 'male']\n",
    "female = train[train['Sex'] == 'female']\n",
    "\n",
    "# Mannen en vrouwen over het totaal plotten\n",
    "plt.figure(figsize=(10, 5))\n",
    "plt.subplot(1,2,1)\n",
    "plt.title(\"Verdeling van leeftijd over mannen na imputen\")\n",
    "train.Age.plot('hist')\n",
    "male.Age.plot('hist')\n",
    "plt.subplot(1,2,2)\n",
    "plt.title(\"Verdeling van leeftijd over vrouwen na imputen\")\n",
    "train.Age.plot('hist')\n",
    "female.Age.plot('hist')\n",
    "\n",
    "male.Age.mean(), female.Age.mean() # Gemiddelde leeftijd van mannen is hoger dan van vrouwen\n",
    "\n",
    "plt.figure(figsize=(15,10))\n",
    "plt.subplot(1,3,1)\n",
    "plt.title(\"Gemiddelde leeftijd per klasse voor vrouwen\")\n",
    "sns.barplot(female['Pclass'], female['Age'])\n",
    "plt.subplot(1,3,2)\n",
    "plt.title(\"Gemiddelde leeftijd per klasse voor mannen\")\n",
    "sns.barplot(male['Pclass'], male['Age'])   # Leeftijd en klasse correleren ook met elkaar\n",
    "plt.subplot(1,3,3)\n",
    "sns.countplot(train['Pclass'], hue=train['Sex']) # Ook meer mannen in derde klasse"
   ]
  },
  {
   "cell_type": "code",
   "execution_count": 99,
   "metadata": {},
   "outputs": [],
   "source": [
    "### Vervangen van NA's afhankelijk van class en geslacht\n",
    "for df in all_data:\n",
    "    m_c1 = (df.Sex == 'male') & (df.Pclass == 1)\n",
    "    m_c2 = (df.Sex == 'male') & (df.Pclass == 2)\n",
    "    m_c3 = (df.Sex == 'male') & (df.Pclass == 3)\n",
    "    f_c1 = (df.Sex == 'female') & (df.Pclass == 1)\n",
    "    f_c2 = (df.Sex == 'female') & (df.Pclass == 2)\n",
    "    f_c3 = (df.Sex == 'female') & (df.Pclass == 3)\n",
    "\n",
    "    df.loc[m_c1, 'Age'] = df.loc[m_c1, 'Age'].fillna(df.loc[m_c1, 'Age'].mean())\n",
    "    df.loc[m_c2, 'Age'] = df.loc[m_c2, 'Age'].fillna(df.loc[m_c2, 'Age'].mean())\n",
    "    df.loc[m_c3, 'Age'] = df.loc[m_c3, 'Age'].fillna(df.loc[m_c3, 'Age'].mean())\n",
    "    df.loc[f_c1, 'Age'] = df.loc[f_c1, 'Age'].fillna(df.loc[f_c1, 'Age'].mean())\n",
    "    df.loc[f_c2, 'Age'] = df.loc[f_c2, 'Age'].fillna(df.loc[f_c2, 'Age'].mean())\n",
    "    df.loc[f_c3, 'Age'] = df.loc[f_c3, 'Age'].fillna(df.loc[f_c3, 'Age'].mean())\n",
    "\n"
   ]
  },
  {
   "cell_type": "code",
   "execution_count": 100,
   "metadata": {},
   "outputs": [
    {
     "name": "stdout",
     "output_type": "stream",
     "text": [
      "PassengerId      0\n",
      "Survived         0\n",
      "Pclass           0\n",
      "Name             0\n",
      "Sex              0\n",
      "Age              0\n",
      "SibSp            0\n",
      "Parch            0\n",
      "Ticket           0\n",
      "Fare             0\n",
      "Cabin          687\n",
      "Embarked         0\n",
      "dtype: int64\n"
     ]
    }
   ],
   "source": [
    "### Checken of alles is gelukt voor verwijderen van na's in tit_copy:\n",
    "print(train.isnull().sum())"
   ]
  },
  {
   "cell_type": "code",
   "execution_count": 101,
   "metadata": {},
   "outputs": [
    {
     "name": "stdout",
     "output_type": "stream",
     "text": [
      "PassengerId      0\n",
      "Pclass           0\n",
      "Name             0\n",
      "Sex              0\n",
      "Age              0\n",
      "SibSp            0\n",
      "Parch            0\n",
      "Ticket           0\n",
      "Fare             0\n",
      "Cabin          327\n",
      "Embarked         0\n",
      "dtype: int64\n"
     ]
    }
   ],
   "source": [
    "### Checken of alles is gelukt voor verwijderen van na's in test_copy:\n",
    "print(test.isnull().sum())"
   ]
  },
  {
   "cell_type": "code",
   "execution_count": 102,
   "metadata": {},
   "outputs": [
    {
     "data": {
      "text/plain": [
       "<matplotlib.axes._subplots.AxesSubplot at 0x1a26daab70>"
      ]
     },
     "execution_count": 102,
     "metadata": {},
     "output_type": "execute_result"
    },
    {
     "data": {
      "image/png": "[encoded data removed]",
      "text/plain": [
       "<Figure size 720x360 with 2 Axes>"
      ]
     },
     "metadata": {
      "needs_background": "light"
     },
     "output_type": "display_data"
    }
   ],
   "source": [
    "# Plotten na invullen van Na's\n",
    "plt.figure(figsize=(10, 5))\n",
    "plt.subplot(1,2,1)\n",
    "plt.title(\"Verdeling van leeftijd over mannen na imputen\")\n",
    "train.Age.plot('hist')\n",
    "train.loc[train.Sex == 'male', 'Age'].plot('hist')\n",
    "plt.subplot(1,2,2)\n",
    "plt.title(\"Verdeling van leeftijd over vrouwen na imputen\")\n",
    "train.Age.plot('hist')\n",
    "train.loc[train.Sex == 'female', 'Age'].plot('hist')"
   ]
  },
  {
   "cell_type": "markdown",
   "metadata": {},
   "source": [
    "#### Drop features die niet belangrijk zijn en verander de features daar waar nodig:\n",
    "- Names: waarschijnlijk niet belangrijk\n",
    "- Ticket: ook niet relevant\n",
    "- Cabin: heel veel NA’s dus niet gebruiken\n",
    "- PassengerID: niet relevant"
   ]
  },
  {
   "cell_type": "code",
   "execution_count": 103,
   "metadata": {},
   "outputs": [],
   "source": [
    "## Remove names, ticket, cabin and passengerID\n",
    "train = train.drop(['Name', 'Ticket', 'Cabin', 'PassengerId'], axis=1) \n",
    "test = test.drop(['Name', 'Ticket', 'Cabin', 'PassengerId'], axis=1) "
   ]
  },
  {
   "cell_type": "code",
   "execution_count": 104,
   "metadata": {},
   "outputs": [],
   "source": [
    "## Verander sex naar quantitatieve data    \n",
    "train['Sex'] = train['Sex'].map( {'female': 1, 'male': 0} ).astype(int)\n",
    "test['Sex'] = test['Sex'].map( {'female': 1, 'male': 0} ).astype(int)"
   ]
  },
  {
   "cell_type": "code",
   "execution_count": 118,
   "metadata": {},
   "outputs": [],
   "source": [
    "## Verander embarked naar quantitatieve data:\n",
    "train['Embarked'] = train['Embarked'].map( {'S': 0, 'C': 1, 'Q': 3} ).astype(int)\n",
    "test['Embarked'] = test['Embarked'].map( {'S': 0, 'C': 1, 'Q': 3} ).astype(int)"
   ]
  },
  {
   "cell_type": "code",
   "execution_count": 121,
   "metadata": {},
   "outputs": [
    {
     "data": {
      "image/png": "[encoded data removed]",
      "text/plain": [
       "<Figure size 864x720 with 2 Axes>"
      ]
     },
     "metadata": {
      "needs_background": "light"
     },
     "output_type": "display_data"
    }
   ],
   "source": [
    "plt.figure(figsize=(12,10))\n",
    "cor = train.corr()\n",
    "sns.heatmap(cor, annot=True, cmap=plt.cm.Reds)\n",
    "plt.show()"
   ]
  },
  {
   "cell_type": "code",
   "execution_count": 122,
   "metadata": {},
   "outputs": [
    {
     "data": {
      "text/plain": [
       "Survived    1.000000\n",
       "Sex         0.543351\n",
       "Name: Survived, dtype: float64"
      ]
     },
     "execution_count": 122,
     "metadata": {},
     "output_type": "execute_result"
    }
   ],
   "source": [
    "#Correlation with output variable\n",
    "cor_target = abs(cor[\"Survived\"])\n",
    "#Selecting highly correlated features\n",
    "relevant_features = cor_target[cor_target>0.5]\n",
    "relevant_features"
   ]
  },
  {
   "cell_type": "markdown",
   "metadata": {},
   "source": [
    "In de plot hierboven is te zien dat geslacht als enige sterk samenhangt  met de overlevingskans.\n",
    "Daarnaast correleren de features Parch en SibSp ook vrij sterk samen zoals te zien is in de plot hierboven. Daarom is het beter dat deze worden samengenomen. "
   ]
  },
  {
   "cell_type": "markdown",
   "metadata": {},
   "source": [
    "#### Transform and create attributes:\n",
    "- Samenvoegen van SibSp en Parch >> wel of niet familielid aan boord \n",
    "    - Dit moet samen omdat ze ook sterk samen correleren (is ook logisch omdat ze hetzelfde verklaren)\n",
    "- Kolom toevoegen met wel of niet volwassen\n",
    "    - Gebaseerd op wat te zien is in plot ... (#Correlation between survival and age for man en die voor vrouwen)\n",
    "    - Hier zag je dat bij een leeftijd van mannen onder de 18 en boven de 18 een groot verschil was.  \n",
    "- Nieuwe feature maken van Pclass en Fare "
   ]
  },
  {
   "cell_type": "code",
   "execution_count": 107,
   "metadata": {},
   "outputs": [],
   "source": [
    "## Samenvoegen sib en  parch:\n",
    "# 1 als men geen familie heeft\n",
    "# 0 als men alleen is\n",
    "\n",
    "# voor train\n",
    "train['Family'] = train['SibSp'] + train['Parch'] + 1 \n",
    "train['Alone'] = 0\n",
    "train.loc[train['Family'] == 1, 'Alone'] = 1 \n",
    "\n",
    "# voor test\n",
    "test['Family'] = test['SibSp'] + test['Parch'] + 1 \n",
    "test['Alone'] = 0\n",
    "test.loc[test['Family'] == 1, 'Alone'] = 1 \n",
    "\n",
    "# remove parch sibsp and family from the data\n",
    "train = train.drop(['Parch', 'SibSp', 'Family'], axis=1)\n",
    "test = test.drop(['Parch', 'SibSp', 'Family'], axis=1)\n",
    "\n",
    "### Deze kunnen samengenomen worden omdat ze beide voor wel of geen familie in het algmeen staan.\n",
    "### En als er dus geen familie mee is, is het 0 en als er kinderen danwel ouders van iemand zijn is het 1."
   ]
  },
  {
   "cell_type": "code",
   "execution_count": 91,
   "metadata": {},
   "outputs": [
    {
     "data": {
      "text/plain": [
       "76"
      ]
     },
     "execution_count": 91,
     "metadata": {},
     "output_type": "execute_result"
    }
   ],
   "source": [
    "test[\"Age\"].max()"
   ]
  },
  {
   "cell_type": "code",
   "execution_count": 109,
   "metadata": {},
   "outputs": [
    {
     "name": "stdout",
     "output_type": "stream",
     "text": [
      "  AgeBand  Survived\n",
      "0       0  0.477273\n",
      "1       1  0.319809\n",
      "2       2  0.431227\n",
      "3       3  0.343750\n"
     ]
    }
   ],
   "source": [
    "## Wel of niet volwassen:\n",
    "# Create age bands for younger than 18 (0) and older than 18 (1) and look at the possibility of surviving\n",
    "train['Age'] = train['Age'].astype(int) # deze kan ook staan bij het invullen van de NaN's van age \n",
    "test['Age'] = test['Age'].astype(int) # deze kan ook staan bij het invullen van de NaN's van age \n",
    "\n",
    "# Bins maken van 0 tot 18 en 18 tot max leeftijd (80):\n",
    "#df['AgeBand'] = pd.cut(df['Age'], bins=[0,18,80], labels=[0,1]) \n",
    "### MAAR BETER IS WAARSCHIJNLIJK AGE BANDS MAKEN VOOR 4 GROEPEN\n",
    "train['AgeBand'] = pd.cut(train['Age'], bins=[0,18,30,50,80], labels=[0,1,2,3]) # qcut?\n",
    "# anders voor test set:\n",
    "test['AgeBand'] = pd.cut(test['Age'], bins=[0,18,30,50,76], labels=[0,1,2,3]) # qcut?\n",
    "\n",
    "\n",
    "# Kans op overleven voor de groepen:\n",
    "print(train[['AgeBand', 'Survived']].groupby(['AgeBand'], as_index=False).mean().sort_values(by='AgeBand', ascending=True))\n",
    "\n",
    "# Deze hier pas anders wordt de kans op overleven verkeerd berekend:\n",
    "train['AgeBand'] = train['AgeBand'].astype(int)\n",
    "test['AgeBand'] = test['AgeBand'].astype(int)\n",
    "\n",
    "# Remove AgeBand from the data\n",
    "train = train.drop(['Age'], axis=1) \n",
    "test = test.drop(['Age'], axis=1) "
   ]
  },
  {
   "cell_type": "code",
   "execution_count": 111,
   "metadata": {},
   "outputs": [
    {
     "name": "stdout",
     "output_type": "stream",
     "text": [
      "  FareBand  Survived\n",
      "0        0  0.197309\n",
      "1        1  0.303571\n",
      "2        2  0.454955\n",
      "3        3  0.581081\n"
     ]
    }
   ],
   "source": [
    "# Create FareBands: \n",
    "# Here, we use qcut since we want the data to be separted equally\n",
    "train['FareBand'] = pd.qcut(train['Fare'], 4, labels=[0,1,2,3])\n",
    "test['FareBand'] = pd.qcut(test['Fare'], 4, labels=[0,1,2,3])\n",
    "\n",
    "# Kans op overleven voor beide groepen:\n",
    "print(train[['FareBand', 'Survived']].groupby(['FareBand'], as_index=False).mean().sort_values(by='FareBand', ascending=True))\n",
    "\n",
    "# Deze hier pas anders wordt de kans op overleven verkeerd berekend:\n",
    "train['FareBand'] = train['FareBand'].astype(int)\n",
    "test['FareBand'] = test['FareBand'].astype(int)\n",
    "\n",
    "# Remove AgeBand from the data\n",
    "train = train.drop(['Fare'], axis=1) \n",
    "test = test.drop(['Fare'], axis=1) "
   ]
  },
  {
   "cell_type": "code",
   "execution_count": 112,
   "metadata": {},
   "outputs": [],
   "source": [
    "## Create a new artificial feature for pclass en fare:\n",
    "train['FareBand*Class'] = train.FareBand * train.Pclass\n",
    "test['FareBand*Class'] = test.FareBand * test.Pclass\n",
    "\n",
    "\n",
    "### Hier verwijderen we FareBand en class niet omdat deze niet precies hetzelfde betekenen.\n",
    "### Wel kan er gekeken worden of de een effectiever is dan de ander maar dat komt later.\n"
   ]
  },
  {
   "cell_type": "code",
   "execution_count": 125,
   "metadata": {
    "scrolled": true
   },
   "outputs": [
    {
     "name": "stdout",
     "output_type": "stream",
     "text": [
      "<class 'pandas.core.frame.DataFrame'>\n",
      "RangeIndex: 891 entries, 0 to 890\n",
      "Data columns (total 8 columns):\n",
      "Survived          891 non-null int64\n",
      "Pclass            891 non-null int64\n",
      "Sex               891 non-null int64\n",
      "Embarked          891 non-null int64\n",
      "Alone             891 non-null int64\n",
      "AgeBand           891 non-null int64\n",
      "FareBand          891 non-null int64\n",
      "FareBand*Class    891 non-null int64\n",
      "dtypes: int64(8)\n",
      "memory usage: 55.8 KB\n"
     ]
    }
   ],
   "source": [
    "train.info()"
   ]
  },
  {
   "cell_type": "code",
   "execution_count": 126,
   "metadata": {},
   "outputs": [
    {
     "name": "stdout",
     "output_type": "stream",
     "text": [
      "<class 'pandas.core.frame.DataFrame'>\n",
      "RangeIndex: 418 entries, 0 to 417\n",
      "Data columns (total 7 columns):\n",
      "Pclass            418 non-null int64\n",
      "Sex               418 non-null int64\n",
      "Embarked          418 non-null int64\n",
      "Alone             418 non-null int64\n",
      "AgeBand           418 non-null int64\n",
      "FareBand          418 non-null int64\n",
      "FareBand*Class    418 non-null int64\n",
      "dtypes: int64(7)\n",
      "memory usage: 22.9 KB\n"
     ]
    }
   ],
   "source": [
    "test.info()"
   ]
  },
  {
   "cell_type": "markdown",
   "metadata": {},
   "source": [
    "DINGEN DIE AANGEPASST KUNNEN WORDEN:\n",
    "- features kunnen niet worden verwijderd of samengenomen\n",
    "- andere age bands\n",
    "- andere fare bands"
   ]
  },
  {
   "cell_type": "code",
   "execution_count": null,
   "metadata": {},
   "outputs": [],
   "source": []
  }
 ],
 "metadata": {
  "kernelspec": {
   "display_name": "Python 3",
   "language": "python",
   "name": "python3"
  },
  "language_info": {
   "codemirror_mode": {
    "name": "ipython",
    "version": 3
   },
   "file_extension": ".py",
   "mimetype": "text/x-python",
   "name": "python",
   "nbconvert_exporter": "python",
   "pygments_lexer": "ipython3",
   "version": "3.7.3"
  }
 },
 "nbformat": 4,
 "nbformat_minor": 2
}
