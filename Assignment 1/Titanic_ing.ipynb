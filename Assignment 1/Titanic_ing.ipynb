{
 "cells": [
  {
   "cell_type": "code",
   "execution_count": 61,
   "metadata": {},
   "outputs": [],
   "source": [
    "# data analysis and wrangling\n",
    "import copy\n",
    "import pandas as pd\n",
    "import numpy as np\n",
    "import random as rnd\n",
    "\n",
    "# visualization\n",
    "import seaborn as sns\n",
    "import matplotlib.pyplot as plt\n",
    "%matplotlib inline\n",
    "\n",
    "# machine learning\n",
    "from sklearn.linear_model import LogisticRegression\n",
    "from sklearn.svm import SVC, LinearSVC\n",
    "from sklearn.ensemble import RandomForestClassifier\n",
    "from sklearn.neighbors import KNeighborsClassifier\n",
    "from sklearn.naive_bayes import GaussianNB\n",
    "from sklearn.linear_model import Perceptron\n",
    "from sklearn.linear_model import SGDClassifier\n",
    "from sklearn.tree import DecisionTreeClassifier"
   ]
  },
  {
   "cell_type": "markdown",
   "metadata": {},
   "source": [
    "# 2A: Preparation\n",
    "Eerst data inlezen:"
   ]
  },
  {
   "cell_type": "code",
   "execution_count": 76,
   "metadata": {},
   "outputs": [],
   "source": [
    "# Training data\n",
    "titanic = pd.read_csv('train.csv', sep=',')\n",
    "tit_copy = titanic.copy()\n",
    "tit_copy.describe(include='all')\n",
    "# Inladen van de testdata:\n",
    "titanic_test = pd.read_csv('test.csv', sep=',')\n",
    "test_copy = titanic_test.copy()\n",
    "# Beide\n",
    "all_data = [tit_copy, test_copy]"
   ]
  },
  {
   "cell_type": "markdown",
   "metadata": {},
   "source": [
    "Attributes: *ID, Survived, Pclass, Name, Sex, Age, SibSp, Parch, Ticket, Fare, Cabin, Embarked*\n",
    "\n",
    "Nu kijken welke datatypes het zijn:"
   ]
  },
  {
   "cell_type": "code",
   "execution_count": 85,
   "metadata": {},
   "outputs": [
    {
     "name": "stdout",
     "output_type": "stream",
     "text": [
      "Integer columns: ['PassengerId', 'Survived', 'Pclass', 'SibSp', 'Parch']\n",
      "Float columns: ['Age', 'Fare']\n",
      "String columns: ['Name', 'Sex', 'Ticket', 'Cabin', 'Embarked']\n"
     ]
    }
   ],
   "source": [
    "int_columns = list(tit_copy.columns[tit_copy.dtypes == 'int64'])\n",
    "float_columns = list(tit_copy.columns[tit_copy.dtypes == 'float64'])\n",
    "string_columns = list(tit_copy.columns[tit_copy.dtypes == 'object'])\n",
    "\n",
    "print(f\"Integer columns: {int_columns}\")\n",
    "print(f\"Float columns: {float_columns}\")\n",
    "print(f\"String columns: {string_columns}\")"
   ]
  },
  {
   "cell_type": "code",
   "execution_count": 22,
   "metadata": {},
   "outputs": [
    {
     "name": "stdout",
     "output_type": "stream",
     "text": [
      "<class 'pandas.core.frame.DataFrame'>\n",
      "RangeIndex: 891 entries, 0 to 890\n",
      "Data columns (total 12 columns):\n",
      "PassengerId    891 non-null int64\n",
      "Survived       891 non-null int64\n",
      "Pclass         891 non-null int64\n",
      "Name           891 non-null object\n",
      "Sex            891 non-null object\n",
      "Age            714 non-null float64\n",
      "SibSp          891 non-null int64\n",
      "Parch          891 non-null int64\n",
      "Ticket         891 non-null object\n",
      "Fare           891 non-null float64\n",
      "Cabin          204 non-null object\n",
      "Embarked       889 non-null object\n",
      "dtypes: float64(2), int64(5), object(5)\n",
      "memory usage: 83.6+ KB\n"
     ]
    }
   ],
   "source": [
    "tit_copy.info()"
   ]
  },
  {
   "cell_type": "code",
   "execution_count": 23,
   "metadata": {},
   "outputs": [
    {
     "name": "stdout",
     "output_type": "stream",
     "text": [
      "<class 'pandas.core.frame.DataFrame'>\n",
      "RangeIndex: 418 entries, 0 to 417\n",
      "Data columns (total 11 columns):\n",
      "PassengerId    418 non-null int64\n",
      "Pclass         418 non-null int64\n",
      "Name           418 non-null object\n",
      "Sex            418 non-null object\n",
      "Age            332 non-null float64\n",
      "SibSp          418 non-null int64\n",
      "Parch          418 non-null int64\n",
      "Ticket         418 non-null object\n",
      "Fare           417 non-null float64\n",
      "Cabin          91 non-null object\n",
      "Embarked       418 non-null object\n",
      "dtypes: float64(2), int64(4), object(5)\n",
      "memory usage: 36.0+ KB\n"
     ]
    }
   ],
   "source": [
    "test_copy.info()"
   ]
  },
  {
   "cell_type": "markdown",
   "metadata": {},
   "source": [
    "Kijken voor de kolommen hoe de kolommen eruit zien:"
   ]
  },
  {
   "cell_type": "code",
   "execution_count": 14,
   "metadata": {
    "scrolled": false
   },
   "outputs": [
    {
     "name": "stdout",
     "output_type": "stream",
     "text": [
      "PassengerId      0\n",
      "Survived         0\n",
      "Pclass           0\n",
      "Name             0\n",
      "Sex              0\n",
      "Age            177\n",
      "SibSp            0\n",
      "Parch            0\n",
      "Ticket           0\n",
      "Fare             0\n",
      "Cabin          687\n",
      "Embarked         2\n",
      "dtype: int64\n"
     ]
    }
   ],
   "source": [
    "# Eerst de integer kolommen\n",
    "\n",
    "tit_copy['PassengerId'] # Gewoon ID's, hebben we waarschijnlijk niet heel veel aan\n",
    "\n",
    "tit_copy['Survived'] # Of ze het overleefd hebben; binair;  uitkomst variabele;  0=nee, 1=ja   \n",
    "tit_copy['Survived'].value_counts() # 38% (342) heeft het overleefd\n",
    "\n",
    "tit_copy['Pclass'] # Klasse waarin ze reisden; ordinaal;  1=eerste,2=tweede,3=derde\n",
    "tit_copy['Pclass'].value_counts() # 3: 491,  2: 216,  1: 184\n",
    "\n",
    "tit_copy['SibSp'] # Aantal broertjes/partners aan boord;  discreet\n",
    "tit_copy['SibSp'].value_counts() # 0: 608,  1: 209,  2: 28,  3: 16,  4: 18,  5: 5,  8: 7\n",
    "\n",
    "tit_copy['Parch'] # Aantal ouders/kinderen aan boord;  discreet\n",
    "tit_copy['Parch'].value_counts() #0: 678,  1: 118,  2: 80,  3: 5,  4: 4,  5: 5,  6: 1\n",
    "\n",
    "# Nu de float kolommen\n",
    "\n",
    "tit_copy['Age'] # Leeftijd;    continue;\n",
    "tit_copy['Age'].isnull().sum() # 177 NA's\n",
    "np.mean(tit_copy['Age']) # Gemiddelde leeftijd = 29.7\n",
    "np.std(tit_copy['Age']) # Met een std van 14.5\n",
    "\n",
    "tit_copy['Fare'] # Ticket prijs    continue\n",
    "np.mean(tit_copy['Fare']) # Gemiddelde fare van 32.2\n",
    "np.std(tit_copy['Fare']) # Met een std van 49.6\n",
    "\n",
    "# Nu de string kolommen\n",
    "\n",
    "tit_copy['Name'] # Namen, hebben we niet heel veel aan waarschijnlijk\n",
    "\n",
    "tit_copy['Sex'] # Geslacht; male=man, female=vrouw\n",
    "tit_copy['Sex'].value_counts()  # 577 mannen,   314 vrouwen\n",
    "\n",
    "tit_copy['Ticket'] # Ticket nummer, lijkt me ook niet relevant\n",
    "\n",
    "tit_copy['Cabin'] # Hun cabine nummer, heel veel NA's\n",
    "tit_copy['Cabin'].isnull().sum() # 687/891 NA's\n",
    "\n",
    "tit_copy['Embarked'] # Waar ze opgestapt zijn;  C = Cherbourg, Q = Queenstown, S = Southampton\n",
    "tit_copy['Embarked'].value_counts(dropna=False) # S: 644,  C: 168,  Q: 77    2 NA's\n",
    "\n",
    "print(tit_copy.isnull().sum()) # Age heeft 177 NA's en Cabin 687, Embarked 2"
   ]
  },
  {
   "cell_type": "markdown",
   "metadata": {},
   "source": [
    "Eerst wat descriptive plots van de continue variabelen:"
   ]
  },
  {
   "cell_type": "code",
   "execution_count": 87,
   "metadata": {
    "scrolled": false
   },
   "outputs": [
    {
     "data": {
      "text/plain": [
       "<matplotlib.axes._subplots.AxesSubplot at 0x19f5924a9e8>"
      ]
     },
     "execution_count": 87,
     "metadata": {},
     "output_type": "execute_result"
    },
    {
     "data": {
      "image/png": "[encoded data removed]",
      "text/plain": [
       "<Figure size 720x360 with 2 Axes>"
      ]
     },
     "metadata": {
      "needs_background": "light"
     },
     "output_type": "display_data"
    }
   ],
   "source": [
    "f, _ = plt.subplots(2, 2, figsize=(10,5))\n",
    "plt.subplot(1,2,1)\n",
    "sns.boxplot(tit_copy['Age'])\n",
    "plt.subplot(1,2,2)\n",
    "sns.boxplot(tit_copy['Fare']) # Een outlier op rechts"
   ]
  },
  {
   "cell_type": "markdown",
   "metadata": {},
   "source": [
    "Er is één grote outlier bij Fare waar waarschijnlijk iets mee gedaan moet worden. Moeten we ook iets met de rest doen? En er zijn bij Age en Fare blijkbaar 0-values. Zijn dit pasgeboren baby's en mensen die gratis reisden of zijn dit ook missing value's?"
   ]
  },
  {
   "cell_type": "code",
   "execution_count": 124,
   "metadata": {},
   "outputs": [
    {
     "data": {
      "text/plain": [
       "<matplotlib.axes._subplots.AxesSubplot at 0x19f5b7fd208>"
      ]
     },
     "execution_count": 124,
     "metadata": {},
     "output_type": "execute_result"
    },
    {
     "data": {
      "image/png": "[encoded data removed]",
      "text/plain": [
       "<Figure size 432x288 with 1 Axes>"
      ]
     },
     "metadata": {
      "needs_background": "light"
     },
     "output_type": "display_data"
    }
   ],
   "source": [
    "sns.barplot(tit_copy['Survived'], tit_copy['Fare'])"
   ]
  },
  {
   "cell_type": "markdown",
   "metadata": {},
   "source": [
    "Aan dit plotje te zien is de gemiddelde Fare bij overlevenden groter dan bij niet-overlevenden. Komt dit doordat ze in een betere klasse zaten of door de outlier of is er een andere reden?"
   ]
  },
  {
   "cell_type": "code",
   "execution_count": 134,
   "metadata": {
    "scrolled": false
   },
   "outputs": [
    {
     "data": {
      "text/plain": [
       "<matplotlib.axes._subplots.AxesSubplot at 0x19f5efb6c50>"
      ]
     },
     "execution_count": 134,
     "metadata": {},
     "output_type": "execute_result"
    },
    {
     "data": {
      "image/png": "[encoded data removed]",
      "text/plain": [
       "<Figure size 1080x720 with 3 Axes>"
      ]
     },
     "metadata": {
      "needs_background": "light"
     },
     "output_type": "display_data"
    }
   ],
   "source": [
    "plt.figure(figsize=(15,10))\n",
    "plt.subplot(1,3,1)\n",
    "sns.barplot(tit_copy['Pclass'], tit_copy['Fare'])\n",
    "plt.subplot(1,3,2)\n",
    "sns.barplot(tit_copy['Survived'], tit_copy['Fare'], tit_copy['Pclass'])\n",
    "plt.subplot(1,3,3)\n",
    "sns.countplot(tit_copy['Survived'], hue=tit_copy['Pclass'])"
   ]
  },
  {
   "cell_type": "markdown",
   "metadata": {},
   "source": [
    "De Fare van de eerste klasse was significant veel hoger. Er is ook een significant verschil qua prijs tussen de mensen die het wel overleefd hebben en 1e klasse reisden vs de mensen die het niet overleefd hebben en 1e klas reisden. Kregen de mensen die veel geld betaalden voorrang? De mensen die het niet overleefd hebben kwamen voornamelijk uit de 3e klasse. Wijst er ook op dat dat een factor kan zijn"
   ]
  },
  {
   "cell_type": "markdown",
   "metadata": {},
   "source": [
    "Kijken hoe de leeftijd en het geslacht verdeeld is onder de overlevenden:"
   ]
  },
  {
   "cell_type": "code",
   "execution_count": 122,
   "metadata": {
    "scrolled": true
   },
   "outputs": [
    {
     "data": {
      "text/plain": [
       "<matplotlib.axes._subplots.AxesSubplot at 0x19f5c831390>"
      ]
     },
     "execution_count": 122,
     "metadata": {},
     "output_type": "execute_result"
    },
    {
     "data": {
      "image/png": "[encoded data removed]",
      "text/plain": [
       "<Figure size 1080x720 with 3 Axes>"
      ]
     },
     "metadata": {
      "needs_background": "light"
     },
     "output_type": "display_data"
    }
   ],
   "source": [
    "plt.figure(figsize = (15,10))\n",
    "plt.subplot(1,3,1)\n",
    "sns.countplot(tit_copy['Survived'], hue=titanic['Sex']) # Veel meer mannen die het niet overleefd hebben\n",
    "plt.subplot(1,3,2)\n",
    "sns.barplot(tit_copy['Survived'], titanic['Age']) # Bij leeftijd niet echt een verschil te zien\n",
    "plt.subplot(1,3,3)\n",
    "sns.barplot(tit_copy['Survived'], titanic['Age'], titanic['Sex']) # Gem leeftijd van overleden mannen is hoger dan overleden vrouwen."
   ]
  },
  {
   "cell_type": "markdown",
   "metadata": {},
   "source": [
    "Er zijn veel meer mannen dan vrouwen overleden. Ook zijn er veel meer vrouwen dan mannen die het wel hebben overleefd. Bij de gemiddelde leeftijs is geen groot verschil te zien, behalve als je gaat filteren op geslacht. De gemiddelde leeftijd van overleden mannen is groter dan van overleden vrouwen. De leeftijd van overlevende mannen/vrouwen is ong gelijk"
   ]
  },
  {
   "cell_type": "markdown",
   "metadata": {},
   "source": [
    "Kijken hoe het aantal familieleden/partners verdeeld is:"
   ]
  },
  {
   "cell_type": "code",
   "execution_count": 120,
   "metadata": {},
   "outputs": [
    {
     "data": {
      "text/plain": [
       "<matplotlib.axes._subplots.AxesSubplot at 0x19f5be2ed68>"
      ]
     },
     "execution_count": 120,
     "metadata": {},
     "output_type": "execute_result"
    },
    {
     "data": {
      "image/png": "[encoded data removed]",
      "text/plain": [
       "<Figure size 1080x720 with 4 Axes>"
      ]
     },
     "metadata": {
      "needs_background": "light"
     },
     "output_type": "display_data"
    }
   ],
   "source": [
    "plt.figure(figsize = (15,10))\n",
    "plt.subplot(2,2,1)\n",
    "sns.countplot(tit_copy['Parch'], hue=tit_copy['Sex']) # Meer mannen dan vrouwen zonder ouders/kinderen\n",
    "plt.subplot(2,2,2)\n",
    "sns.countplot(tit_copy['SibSp'], hue=tit_copy['Sex']) # Meer mannen dan vrouwen zonder broers\n",
    "plt.subplot(2,2,3)\n",
    "sns.countplot(tit_copy['Parch'], hue=tit_copy['Survived']) # Dus ook veel mensen zonder familie die gestorven zijn\n",
    "plt.subplot(2,2,4)\n",
    "sns.countplot(tit_copy['SibSp'], hue=tit_copy['Survived']) # Is logisch want meer mannen overleden en meer mannen alleen -> meer mensen alleen overleden"
   ]
  },
  {
   "cell_type": "markdown",
   "metadata": {},
   "source": [
    "Er zijn veel meer mannen die geen ouders/kinderen of broers/geliefdes hebben dan vrouwen. Bij mensen die wel familie hebben is de man-vrouw verdeling 50-50. Dit geldt ook voor de verdeling van overlevenden onder de mensen: De verhouding van mensen die niet overleden tegenover wel overleden is veel groter bij mensen zonder familie dan bij mensen met."
   ]
  },
  {
   "cell_type": "markdown",
   "metadata": {},
   "source": [
    "Kijken naar Embarked:"
   ]
  },
  {
   "cell_type": "code",
   "execution_count": 117,
   "metadata": {
    "scrolled": true
   },
   "outputs": [
    {
     "data": {
      "text/plain": [
       "<matplotlib.axes._subplots.AxesSubplot at 0x19f5b8d8320>"
      ]
     },
     "execution_count": 117,
     "metadata": {},
     "output_type": "execute_result"
    },
    {
     "data": {
      "image/png": "[encoded data removed]",
      "text/plain": [
       "<Figure size 432x288 with 2 Axes>"
      ]
     },
     "metadata": {
      "needs_background": "light"
     },
     "output_type": "display_data"
    }
   ],
   "source": [
    "sns.countplot(tit_copy['Embarked']) # Meeste komen uit Southampton\n",
    "plt.subplot(1,2,1)\n",
    "sns.countplot(tit_copy['Embarked'], hue=tit_copy['Survived']) # Meer mensen uit Southampton niet dan wel overleefd\n",
    "plt.subplot(1,2,2)\n",
    "sns.countplot(tit_copy['Embarked'], hue=tit_copy['Sex']) # Waren ook veel meer mannen uit Southampton"
   ]
  },
  {
   "cell_type": "markdown",
   "metadata": {},
   "source": [
    "Ong 2/3 van de mensen die in Southampton zijn opgestapt zijn overleden. Dit komt ong overeen met de man/vrouw verhouding. Voor Cherbourg zijn deze verhoudingen een beetje omgedraaid, maar het is de vraag of dit significant is. Voor Queenstown is het ongeveer hetzelfde"
   ]
  },
  {
   "cell_type": "markdown",
   "metadata": {},
   "source": [
    "Kijken naar Pclass:"
   ]
  },
  {
   "cell_type": "code",
   "execution_count": 119,
   "metadata": {
    "scrolled": false
   },
   "outputs": [
    {
     "data": {
      "text/plain": [
       "<matplotlib.axes._subplots.AxesSubplot at 0x19f5bcb6c50>"
      ]
     },
     "execution_count": 119,
     "metadata": {},
     "output_type": "execute_result"
    },
    {
     "data": {
      "image/png": "[encoded data removed]",
      "text/plain": [
       "<Figure size 1080x720 with 2 Axes>"
      ]
     },
     "metadata": {
      "needs_background": "light"
     },
     "output_type": "display_data"
    }
   ],
   "source": [
    "# sns.countplot(tit_copy['Pclass'])  # Veel meer mensen derde klasse\n",
    "plt.figure(figsize=(15,10))\n",
    "plt.subplot(1,2,1)\n",
    "sns.countplot(tit_copy['Pclass'], hue=tit_copy['Survived']) # In derde klasse veel meer mensen niet overleefd, in 1e klasse wel\n",
    "plt.subplot(1,2,2)\n",
    "sns.countplot(tit_copy['Pclass'], hue=tit_copy['Sex']) # Veel meer mannen in derde klasse, ook wat meer in eerste klasse wel"
   ]
  },
  {
   "cell_type": "markdown",
   "metadata": {},
   "source": [
    "De verdeling van het aantal overledenen in de derde klasse komt overeen met de verdeling man/vrouw. De verdeling overlevenden in de eerste klasse is wat omgekeerd: meer overlevenden in de eerste klasse, maar ook meer mannen in eerste klasse. Zou erop kunnen wijzen dat de klasse waarin je reist ook gecorreleerd is met de  overlevingskans?"
   ]
  },
  {
   "cell_type": "code",
   "execution_count": 118,
   "metadata": {},
   "outputs": [
    {
     "data": {
      "text/plain": [
       "<matplotlib.axes._subplots.AxesSubplot at 0x19f5b702e80>"
      ]
     },
     "execution_count": 118,
     "metadata": {},
     "output_type": "execute_result"
    },
    {
     "data": {
      "image/png": "[encoded data removed]",
      "text/plain": [
       "<Figure size 1080x720 with 2 Axes>"
      ]
     },
     "metadata": {
      "needs_background": "light"
     },
     "output_type": "display_data"
    }
   ],
   "source": [
    "plt.figure(figsize = (15,10))\n",
    "plt.subplot(1,2,1)\n",
    "sns.barplot(tit_copy['Embarked'], tit_copy['Pclass'])\n",
    "plt.subplot(1,2,2)\n",
    "sns.barplot(tit_copy['Embarked'], tit_copy['Survived'])"
   ]
  },
  {
   "cell_type": "markdown",
   "metadata": {},
   "source": [
    "Mensen uit Cherbourg zaten gemiddeld genomen in de beste klasse en daarvan heeft het hoogste percentage het overleefd"
   ]
  },
  {
   "cell_type": "code",
   "execution_count": 60,
   "metadata": {},
   "outputs": [
    {
     "data": {
      "text/plain": [
       "<seaborn.axisgrid.FacetGrid at 0x1a1feb7fd0>"
      ]
     },
     "execution_count": 60,
     "metadata": {},
     "output_type": "execute_result"
    },
    {
     "data": {
      "image/png": "[encoded data removed]",
      "text/plain": [
       "<Figure size 432x216 with 2 Axes>"
      ]
     },
     "metadata": {
      "needs_background": "light"
     },
     "output_type": "display_data"
    }
   ],
   "source": [
    "# Survival of men, for different ages\n",
    "man = sns.FacetGrid(tit_copy[tit_copy[\"Sex\"]==\"male\"], col='Survived')\n",
    "man.map(plt.hist, 'Age', bins=20)"
   ]
  },
  {
   "cell_type": "code",
   "execution_count": 59,
   "metadata": {},
   "outputs": [
    {
     "data": {
      "text/plain": [
       "<seaborn.axisgrid.FacetGrid at 0x1a1fc95fd0>"
      ]
     },
     "execution_count": 59,
     "metadata": {},
     "output_type": "execute_result"
    },
    {
     "data": {
      "image/png": "[encoded data removed]",
      "text/plain": [
       "<Figure size 432x216 with 2 Axes>"
      ]
     },
     "metadata": {
      "needs_background": "light"
     },
     "output_type": "display_data"
    }
   ],
   "source": [
    "# Survival of women, for different ages\n",
    "vrouw = sns.FacetGrid(tit_copy[tit_copy[\"Sex\"]==\"female\"], col='Survived')\n",
    "vrouw.map(plt.hist, 'Age', bins=20)"
   ]
  },
  {
   "cell_type": "code",
   "execution_count": 36,
   "metadata": {},
   "outputs": [
    {
     "data": {
      "text/plain": [
       "<matplotlib.axes._subplots.AxesSubplot at 0x1a1e3da9b0>"
      ]
     },
     "execution_count": 36,
     "metadata": {},
     "output_type": "execute_result"
    },
    {
     "data": {
      "image/png": "[encoded data removed]",
      "text/plain": [
       "<Figure size 432x288 with 1 Axes>"
      ]
     },
     "metadata": {
      "needs_background": "light"
     },
     "output_type": "display_data"
    }
   ],
   "source": [
    "sns.countplot(tit_copy['Age'], hue=tit_copy['Sex']) "
   ]
  },
  {
   "cell_type": "markdown",
   "metadata": {},
   "source": [
    "#### Remove NA's for age and embarked:"
   ]
  },
  {
   "cell_type": "code",
   "execution_count": null,
   "metadata": {},
   "outputs": [],
   "source": []
  },
  {
   "cell_type": "markdown",
   "metadata": {},
   "source": [
    "#### Correlating the features with survival / with each other"
   ]
  },
  {
   "cell_type": "code",
   "execution_count": null,
   "metadata": {},
   "outputs": [],
   "source": []
  },
  {
   "cell_type": "code",
   "execution_count": null,
   "metadata": {},
   "outputs": [],
   "source": []
  },
  {
   "cell_type": "markdown",
   "metadata": {},
   "source": [
    "### Data pre-processing\n",
    "#### Feature selection based on observations "
   ]
  },
  {
   "cell_type": "code",
   "execution_count": null,
   "metadata": {},
   "outputs": [],
   "source": []
  },
  {
   "cell_type": "code",
   "execution_count": null,
   "metadata": {},
   "outputs": [],
   "source": []
  },
  {
   "cell_type": "code",
   "execution_count": null,
   "metadata": {},
   "outputs": [],
   "source": []
  },
  {
   "cell_type": "code",
   "execution_count": null,
   "metadata": {},
   "outputs": [],
   "source": []
  },
  {
   "cell_type": "code",
   "execution_count": null,
   "metadata": {},
   "outputs": [],
   "source": []
  }
 ],
 "metadata": {
  "kernelspec": {
   "display_name": "Python 3",
   "language": "python",
   "name": "python3"
  },
  "language_info": {
   "codemirror_mode": {
    "name": "ipython",
    "version": 3
   },
   "file_extension": ".py",
   "mimetype": "text/x-python",
   "name": "python",
   "nbconvert_exporter": "python",
   "pygments_lexer": "ipython3",
   "version": "3.7.3"
  }
 },
 "nbformat": 4,
 "nbformat_minor": 2
}
