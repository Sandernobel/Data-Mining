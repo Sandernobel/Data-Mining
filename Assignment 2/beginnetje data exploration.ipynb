{
 "cells": [
  {
   "cell_type": "markdown",
   "metadata": {},
   "source": [
    "# Data mining assignment 2"
   ]
  },
  {
   "cell_type": "code",
   "execution_count": 74,
   "metadata": {},
   "outputs": [],
   "source": [
    "import pandas as pd\n",
    "import numpy as np\n",
    "import seaborn as sns\n",
    "import matplotlib.pyplot as plt\n",
    "from matplotlib import pyplot\n",
    "from numpy import cov\n",
    "from scipy.stats import pearsonr\n",
    "from scipy import stats\n",
    "\n",
    "%matplotlib inline"
   ]
  },
  {
   "cell_type": "code",
   "execution_count": 2,
   "metadata": {},
   "outputs": [],
   "source": [
    "df = pd.read_csv('training_set_vu_DM.csv')"
   ]
  },
  {
   "cell_type": "code",
   "execution_count": 3,
   "metadata": {
    "scrolled": true
   },
   "outputs": [
    {
     "data": {
      "text/html": [
       "<div>\n",
       "<style scoped>\n",
       "    .dataframe tbody tr th:only-of-type {\n",
       "        vertical-align: middle;\n",
       "    }\n",
       "\n",
       "    .dataframe tbody tr th {\n",
       "        vertical-align: top;\n",
       "    }\n",
       "\n",
       "    .dataframe thead th {\n",
       "        text-align: right;\n",
       "    }\n",
       "</style>\n",
       "<table border=\"1\" class=\"dataframe\">\n",
       "  <thead>\n",
       "    <tr style=\"text-align: right;\">\n",
       "      <th></th>\n",
       "      <th>srch_id</th>\n",
       "      <th>date_time</th>\n",
       "      <th>site_id</th>\n",
       "      <th>visitor_location_country_id</th>\n",
       "      <th>visitor_hist_starrating</th>\n",
       "      <th>visitor_hist_adr_usd</th>\n",
       "      <th>prop_country_id</th>\n",
       "      <th>prop_id</th>\n",
       "      <th>prop_starrating</th>\n",
       "      <th>prop_review_score</th>\n",
       "      <th>prop_brand_bool</th>\n",
       "      <th>prop_location_score1</th>\n",
       "      <th>prop_location_score2</th>\n",
       "      <th>prop_log_historical_price</th>\n",
       "      <th>position</th>\n",
       "      <th>price_usd</th>\n",
       "      <th>promotion_flag</th>\n",
       "      <th>srch_destination_id</th>\n",
       "      <th>srch_length_of_stay</th>\n",
       "      <th>srch_booking_window</th>\n",
       "      <th>srch_adults_count</th>\n",
       "      <th>srch_children_count</th>\n",
       "      <th>srch_room_count</th>\n",
       "      <th>srch_saturday_night_bool</th>\n",
       "      <th>srch_query_affinity_score</th>\n",
       "      <th>orig_destination_distance</th>\n",
       "      <th>random_bool</th>\n",
       "      <th>comp1_rate</th>\n",
       "      <th>comp1_inv</th>\n",
       "      <th>comp1_rate_percent_diff</th>\n",
       "      <th>comp2_rate</th>\n",
       "      <th>comp2_inv</th>\n",
       "      <th>comp2_rate_percent_diff</th>\n",
       "      <th>comp3_rate</th>\n",
       "      <th>comp3_inv</th>\n",
       "      <th>comp3_rate_percent_diff</th>\n",
       "      <th>comp4_rate</th>\n",
       "      <th>comp4_inv</th>\n",
       "      <th>comp4_rate_percent_diff</th>\n",
       "      <th>comp5_rate</th>\n",
       "      <th>comp5_inv</th>\n",
       "      <th>comp5_rate_percent_diff</th>\n",
       "      <th>comp6_rate</th>\n",
       "      <th>comp6_inv</th>\n",
       "      <th>comp6_rate_percent_diff</th>\n",
       "      <th>comp7_rate</th>\n",
       "      <th>comp7_inv</th>\n",
       "      <th>comp7_rate_percent_diff</th>\n",
       "      <th>comp8_rate</th>\n",
       "      <th>comp8_inv</th>\n",
       "      <th>comp8_rate_percent_diff</th>\n",
       "      <th>click_bool</th>\n",
       "      <th>gross_bookings_usd</th>\n",
       "      <th>booking_bool</th>\n",
       "    </tr>\n",
       "  </thead>\n",
       "  <tbody>\n",
       "    <tr>\n",
       "      <th>0</th>\n",
       "      <td>1</td>\n",
       "      <td>2013-04-04 08:32:15</td>\n",
       "      <td>12</td>\n",
       "      <td>187</td>\n",
       "      <td>NaN</td>\n",
       "      <td>NaN</td>\n",
       "      <td>219</td>\n",
       "      <td>893</td>\n",
       "      <td>3</td>\n",
       "      <td>3.5</td>\n",
       "      <td>1</td>\n",
       "      <td>2.83</td>\n",
       "      <td>0.0438</td>\n",
       "      <td>4.95</td>\n",
       "      <td>27</td>\n",
       "      <td>104.77</td>\n",
       "      <td>0</td>\n",
       "      <td>23246</td>\n",
       "      <td>1</td>\n",
       "      <td>0</td>\n",
       "      <td>4</td>\n",
       "      <td>0</td>\n",
       "      <td>1</td>\n",
       "      <td>1</td>\n",
       "      <td>NaN</td>\n",
       "      <td>NaN</td>\n",
       "      <td>1</td>\n",
       "      <td>NaN</td>\n",
       "      <td>NaN</td>\n",
       "      <td>NaN</td>\n",
       "      <td>0.0</td>\n",
       "      <td>0.0</td>\n",
       "      <td>NaN</td>\n",
       "      <td>0.0</td>\n",
       "      <td>0.0</td>\n",
       "      <td>NaN</td>\n",
       "      <td>NaN</td>\n",
       "      <td>NaN</td>\n",
       "      <td>NaN</td>\n",
       "      <td>0.0</td>\n",
       "      <td>0.0</td>\n",
       "      <td>NaN</td>\n",
       "      <td>NaN</td>\n",
       "      <td>NaN</td>\n",
       "      <td>NaN</td>\n",
       "      <td>NaN</td>\n",
       "      <td>NaN</td>\n",
       "      <td>NaN</td>\n",
       "      <td>0.0</td>\n",
       "      <td>0.0</td>\n",
       "      <td>NaN</td>\n",
       "      <td>0</td>\n",
       "      <td>NaN</td>\n",
       "      <td>0</td>\n",
       "    </tr>\n",
       "    <tr>\n",
       "      <th>1</th>\n",
       "      <td>1</td>\n",
       "      <td>2013-04-04 08:32:15</td>\n",
       "      <td>12</td>\n",
       "      <td>187</td>\n",
       "      <td>NaN</td>\n",
       "      <td>NaN</td>\n",
       "      <td>219</td>\n",
       "      <td>10404</td>\n",
       "      <td>4</td>\n",
       "      <td>4.0</td>\n",
       "      <td>1</td>\n",
       "      <td>2.20</td>\n",
       "      <td>0.0149</td>\n",
       "      <td>5.03</td>\n",
       "      <td>26</td>\n",
       "      <td>170.74</td>\n",
       "      <td>0</td>\n",
       "      <td>23246</td>\n",
       "      <td>1</td>\n",
       "      <td>0</td>\n",
       "      <td>4</td>\n",
       "      <td>0</td>\n",
       "      <td>1</td>\n",
       "      <td>1</td>\n",
       "      <td>NaN</td>\n",
       "      <td>NaN</td>\n",
       "      <td>1</td>\n",
       "      <td>NaN</td>\n",
       "      <td>NaN</td>\n",
       "      <td>NaN</td>\n",
       "      <td>NaN</td>\n",
       "      <td>NaN</td>\n",
       "      <td>NaN</td>\n",
       "      <td>0.0</td>\n",
       "      <td>0.0</td>\n",
       "      <td>NaN</td>\n",
       "      <td>NaN</td>\n",
       "      <td>NaN</td>\n",
       "      <td>NaN</td>\n",
       "      <td>0.0</td>\n",
       "      <td>1.0</td>\n",
       "      <td>NaN</td>\n",
       "      <td>NaN</td>\n",
       "      <td>NaN</td>\n",
       "      <td>NaN</td>\n",
       "      <td>NaN</td>\n",
       "      <td>NaN</td>\n",
       "      <td>NaN</td>\n",
       "      <td>0.0</td>\n",
       "      <td>0.0</td>\n",
       "      <td>NaN</td>\n",
       "      <td>0</td>\n",
       "      <td>NaN</td>\n",
       "      <td>0</td>\n",
       "    </tr>\n",
       "    <tr>\n",
       "      <th>2</th>\n",
       "      <td>1</td>\n",
       "      <td>2013-04-04 08:32:15</td>\n",
       "      <td>12</td>\n",
       "      <td>187</td>\n",
       "      <td>NaN</td>\n",
       "      <td>NaN</td>\n",
       "      <td>219</td>\n",
       "      <td>21315</td>\n",
       "      <td>3</td>\n",
       "      <td>4.5</td>\n",
       "      <td>1</td>\n",
       "      <td>2.20</td>\n",
       "      <td>0.0245</td>\n",
       "      <td>4.92</td>\n",
       "      <td>21</td>\n",
       "      <td>179.80</td>\n",
       "      <td>0</td>\n",
       "      <td>23246</td>\n",
       "      <td>1</td>\n",
       "      <td>0</td>\n",
       "      <td>4</td>\n",
       "      <td>0</td>\n",
       "      <td>1</td>\n",
       "      <td>1</td>\n",
       "      <td>NaN</td>\n",
       "      <td>NaN</td>\n",
       "      <td>1</td>\n",
       "      <td>NaN</td>\n",
       "      <td>NaN</td>\n",
       "      <td>NaN</td>\n",
       "      <td>0.0</td>\n",
       "      <td>0.0</td>\n",
       "      <td>NaN</td>\n",
       "      <td>0.0</td>\n",
       "      <td>0.0</td>\n",
       "      <td>NaN</td>\n",
       "      <td>NaN</td>\n",
       "      <td>NaN</td>\n",
       "      <td>NaN</td>\n",
       "      <td>0.0</td>\n",
       "      <td>0.0</td>\n",
       "      <td>NaN</td>\n",
       "      <td>NaN</td>\n",
       "      <td>NaN</td>\n",
       "      <td>NaN</td>\n",
       "      <td>NaN</td>\n",
       "      <td>NaN</td>\n",
       "      <td>NaN</td>\n",
       "      <td>0.0</td>\n",
       "      <td>0.0</td>\n",
       "      <td>NaN</td>\n",
       "      <td>0</td>\n",
       "      <td>NaN</td>\n",
       "      <td>0</td>\n",
       "    </tr>\n",
       "    <tr>\n",
       "      <th>3</th>\n",
       "      <td>1</td>\n",
       "      <td>2013-04-04 08:32:15</td>\n",
       "      <td>12</td>\n",
       "      <td>187</td>\n",
       "      <td>NaN</td>\n",
       "      <td>NaN</td>\n",
       "      <td>219</td>\n",
       "      <td>27348</td>\n",
       "      <td>2</td>\n",
       "      <td>4.0</td>\n",
       "      <td>1</td>\n",
       "      <td>2.83</td>\n",
       "      <td>0.0125</td>\n",
       "      <td>4.39</td>\n",
       "      <td>34</td>\n",
       "      <td>602.77</td>\n",
       "      <td>0</td>\n",
       "      <td>23246</td>\n",
       "      <td>1</td>\n",
       "      <td>0</td>\n",
       "      <td>4</td>\n",
       "      <td>0</td>\n",
       "      <td>1</td>\n",
       "      <td>1</td>\n",
       "      <td>NaN</td>\n",
       "      <td>NaN</td>\n",
       "      <td>1</td>\n",
       "      <td>NaN</td>\n",
       "      <td>NaN</td>\n",
       "      <td>NaN</td>\n",
       "      <td>-1.0</td>\n",
       "      <td>0.0</td>\n",
       "      <td>5.0</td>\n",
       "      <td>-1.0</td>\n",
       "      <td>0.0</td>\n",
       "      <td>5.0</td>\n",
       "      <td>NaN</td>\n",
       "      <td>NaN</td>\n",
       "      <td>NaN</td>\n",
       "      <td>0.0</td>\n",
       "      <td>1.0</td>\n",
       "      <td>NaN</td>\n",
       "      <td>NaN</td>\n",
       "      <td>NaN</td>\n",
       "      <td>NaN</td>\n",
       "      <td>NaN</td>\n",
       "      <td>NaN</td>\n",
       "      <td>NaN</td>\n",
       "      <td>-1.0</td>\n",
       "      <td>0.0</td>\n",
       "      <td>5.0</td>\n",
       "      <td>0</td>\n",
       "      <td>NaN</td>\n",
       "      <td>0</td>\n",
       "    </tr>\n",
       "    <tr>\n",
       "      <th>4</th>\n",
       "      <td>1</td>\n",
       "      <td>2013-04-04 08:32:15</td>\n",
       "      <td>12</td>\n",
       "      <td>187</td>\n",
       "      <td>NaN</td>\n",
       "      <td>NaN</td>\n",
       "      <td>219</td>\n",
       "      <td>29604</td>\n",
       "      <td>4</td>\n",
       "      <td>3.5</td>\n",
       "      <td>1</td>\n",
       "      <td>2.64</td>\n",
       "      <td>0.1241</td>\n",
       "      <td>4.93</td>\n",
       "      <td>4</td>\n",
       "      <td>143.58</td>\n",
       "      <td>0</td>\n",
       "      <td>23246</td>\n",
       "      <td>1</td>\n",
       "      <td>0</td>\n",
       "      <td>4</td>\n",
       "      <td>0</td>\n",
       "      <td>1</td>\n",
       "      <td>1</td>\n",
       "      <td>NaN</td>\n",
       "      <td>NaN</td>\n",
       "      <td>1</td>\n",
       "      <td>NaN</td>\n",
       "      <td>NaN</td>\n",
       "      <td>NaN</td>\n",
       "      <td>0.0</td>\n",
       "      <td>0.0</td>\n",
       "      <td>NaN</td>\n",
       "      <td>0.0</td>\n",
       "      <td>0.0</td>\n",
       "      <td>NaN</td>\n",
       "      <td>NaN</td>\n",
       "      <td>NaN</td>\n",
       "      <td>NaN</td>\n",
       "      <td>0.0</td>\n",
       "      <td>0.0</td>\n",
       "      <td>NaN</td>\n",
       "      <td>NaN</td>\n",
       "      <td>NaN</td>\n",
       "      <td>NaN</td>\n",
       "      <td>NaN</td>\n",
       "      <td>NaN</td>\n",
       "      <td>NaN</td>\n",
       "      <td>0.0</td>\n",
       "      <td>0.0</td>\n",
       "      <td>NaN</td>\n",
       "      <td>0</td>\n",
       "      <td>NaN</td>\n",
       "      <td>0</td>\n",
       "    </tr>\n",
       "  </tbody>\n",
       "</table>\n",
       "</div>"
      ],
      "text/plain": [
       "   srch_id            date_time  site_id  visitor_location_country_id  \\\n",
       "0        1  2013-04-04 08:32:15       12                          187   \n",
       "1        1  2013-04-04 08:32:15       12                          187   \n",
       "2        1  2013-04-04 08:32:15       12                          187   \n",
       "3        1  2013-04-04 08:32:15       12                          187   \n",
       "4        1  2013-04-04 08:32:15       12                          187   \n",
       "\n",
       "   visitor_hist_starrating  visitor_hist_adr_usd  prop_country_id  prop_id  \\\n",
       "0                      NaN                   NaN              219      893   \n",
       "1                      NaN                   NaN              219    10404   \n",
       "2                      NaN                   NaN              219    21315   \n",
       "3                      NaN                   NaN              219    27348   \n",
       "4                      NaN                   NaN              219    29604   \n",
       "\n",
       "   prop_starrating  prop_review_score  prop_brand_bool  prop_location_score1  \\\n",
       "0                3                3.5                1                  2.83   \n",
       "1                4                4.0                1                  2.20   \n",
       "2                3                4.5                1                  2.20   \n",
       "3                2                4.0                1                  2.83   \n",
       "4                4                3.5                1                  2.64   \n",
       "\n",
       "   prop_location_score2  prop_log_historical_price  position  price_usd  \\\n",
       "0                0.0438                       4.95        27     104.77   \n",
       "1                0.0149                       5.03        26     170.74   \n",
       "2                0.0245                       4.92        21     179.80   \n",
       "3                0.0125                       4.39        34     602.77   \n",
       "4                0.1241                       4.93         4     143.58   \n",
       "\n",
       "   promotion_flag  srch_destination_id  srch_length_of_stay  \\\n",
       "0               0                23246                    1   \n",
       "1               0                23246                    1   \n",
       "2               0                23246                    1   \n",
       "3               0                23246                    1   \n",
       "4               0                23246                    1   \n",
       "\n",
       "   srch_booking_window  srch_adults_count  srch_children_count  \\\n",
       "0                    0                  4                    0   \n",
       "1                    0                  4                    0   \n",
       "2                    0                  4                    0   \n",
       "3                    0                  4                    0   \n",
       "4                    0                  4                    0   \n",
       "\n",
       "   srch_room_count  srch_saturday_night_bool  srch_query_affinity_score  \\\n",
       "0                1                         1                        NaN   \n",
       "1                1                         1                        NaN   \n",
       "2                1                         1                        NaN   \n",
       "3                1                         1                        NaN   \n",
       "4                1                         1                        NaN   \n",
       "\n",
       "   orig_destination_distance  random_bool  comp1_rate  comp1_inv  \\\n",
       "0                        NaN            1         NaN        NaN   \n",
       "1                        NaN            1         NaN        NaN   \n",
       "2                        NaN            1         NaN        NaN   \n",
       "3                        NaN            1         NaN        NaN   \n",
       "4                        NaN            1         NaN        NaN   \n",
       "\n",
       "   comp1_rate_percent_diff  comp2_rate  comp2_inv  comp2_rate_percent_diff  \\\n",
       "0                      NaN         0.0        0.0                      NaN   \n",
       "1                      NaN         NaN        NaN                      NaN   \n",
       "2                      NaN         0.0        0.0                      NaN   \n",
       "3                      NaN        -1.0        0.0                      5.0   \n",
       "4                      NaN         0.0        0.0                      NaN   \n",
       "\n",
       "   comp3_rate  comp3_inv  comp3_rate_percent_diff  comp4_rate  comp4_inv  \\\n",
       "0         0.0        0.0                      NaN         NaN        NaN   \n",
       "1         0.0        0.0                      NaN         NaN        NaN   \n",
       "2         0.0        0.0                      NaN         NaN        NaN   \n",
       "3        -1.0        0.0                      5.0         NaN        NaN   \n",
       "4         0.0        0.0                      NaN         NaN        NaN   \n",
       "\n",
       "   comp4_rate_percent_diff  comp5_rate  comp5_inv  comp5_rate_percent_diff  \\\n",
       "0                      NaN         0.0        0.0                      NaN   \n",
       "1                      NaN         0.0        1.0                      NaN   \n",
       "2                      NaN         0.0        0.0                      NaN   \n",
       "3                      NaN         0.0        1.0                      NaN   \n",
       "4                      NaN         0.0        0.0                      NaN   \n",
       "\n",
       "   comp6_rate  comp6_inv  comp6_rate_percent_diff  comp7_rate  comp7_inv  \\\n",
       "0         NaN        NaN                      NaN         NaN        NaN   \n",
       "1         NaN        NaN                      NaN         NaN        NaN   \n",
       "2         NaN        NaN                      NaN         NaN        NaN   \n",
       "3         NaN        NaN                      NaN         NaN        NaN   \n",
       "4         NaN        NaN                      NaN         NaN        NaN   \n",
       "\n",
       "   comp7_rate_percent_diff  comp8_rate  comp8_inv  comp8_rate_percent_diff  \\\n",
       "0                      NaN         0.0        0.0                      NaN   \n",
       "1                      NaN         0.0        0.0                      NaN   \n",
       "2                      NaN         0.0        0.0                      NaN   \n",
       "3                      NaN        -1.0        0.0                      5.0   \n",
       "4                      NaN         0.0        0.0                      NaN   \n",
       "\n",
       "   click_bool  gross_bookings_usd  booking_bool  \n",
       "0           0                 NaN             0  \n",
       "1           0                 NaN             0  \n",
       "2           0                 NaN             0  \n",
       "3           0                 NaN             0  \n",
       "4           0                 NaN             0  "
      ]
     },
     "execution_count": 3,
     "metadata": {},
     "output_type": "execute_result"
    }
   ],
   "source": [
    "pd.set_option('display.max_columns', None)\n",
    "pd.set_option('display.max_rows', None)\n",
    "df.head()"
   ]
  },
  {
   "cell_type": "code",
   "execution_count": 4,
   "metadata": {
    "scrolled": true
   },
   "outputs": [
    {
     "data": {
      "text/plain": [
       "srch_id                        4958347\n",
       "date_time                      4958347\n",
       "site_id                        4958347\n",
       "visitor_location_country_id    4958347\n",
       "visitor_hist_starrating         251866\n",
       "visitor_hist_adr_usd            252988\n",
       "prop_country_id                4958347\n",
       "prop_id                        4958347\n",
       "prop_starrating                4958347\n",
       "prop_review_score              4950983\n",
       "prop_brand_bool                4958347\n",
       "prop_location_score1           4958347\n",
       "prop_location_score2           3867999\n",
       "prop_log_historical_price      4958347\n",
       "position                       4958347\n",
       "price_usd                      4958347\n",
       "promotion_flag                 4958347\n",
       "srch_destination_id            4958347\n",
       "srch_length_of_stay            4958347\n",
       "srch_booking_window            4958347\n",
       "srch_adults_count              4958347\n",
       "srch_children_count            4958347\n",
       "srch_room_count                4958347\n",
       "srch_saturday_night_bool       4958347\n",
       "srch_query_affinity_score       317406\n",
       "orig_destination_distance      3350565\n",
       "random_bool                    4958347\n",
       "comp1_rate                      119930\n",
       "comp1_inv                       129559\n",
       "comp1_rate_percent_diff          94439\n",
       "comp2_rate                     2024672\n",
       "comp2_inv                      2130269\n",
       "comp2_rate_percent_diff         556238\n",
       "comp3_rate                     1534288\n",
       "comp3_inv                      1650990\n",
       "comp3_rate_percent_diff         472797\n",
       "comp4_rate                      307378\n",
       "comp4_inv                       343663\n",
       "comp4_rate_percent_diff         131086\n",
       "comp5_rate                     2222373\n",
       "comp5_inv                      2360020\n",
       "comp5_rate_percent_diff         841099\n",
       "comp6_rate                      240157\n",
       "comp6_inv                       260976\n",
       "comp6_rate_percent_diff          96174\n",
       "comp7_rate                      315348\n",
       "comp7_inv                       356422\n",
       "comp7_rate_percent_diff         138515\n",
       "comp8_rate                     1916654\n",
       "comp8_inv                      1987503\n",
       "comp8_rate_percent_diff         614730\n",
       "click_bool                     4958347\n",
       "gross_bookings_usd              138390\n",
       "booking_bool                   4958347\n",
       "dtype: int64"
      ]
     },
     "execution_count": 4,
     "metadata": {},
     "output_type": "execute_result"
    }
   ],
   "source": [
    "df['srch_id'].nunique() # 199795 unique searches\n",
    "df['prop_id'].nunique() # 129113 unique hotels\n",
    "df['position'].nunique() # 40 positions\n",
    "df.count() # 4958347 rows"
   ]
  },
  {
   "cell_type": "markdown",
   "metadata": {},
   "source": [
    "Veel missing values, verwijder alle features met meer dan 30% NA's (kan evt nog meer NA's worden, maar dat wordt wel meer imputen)"
   ]
  },
  {
   "cell_type": "code",
   "execution_count": 5,
   "metadata": {
    "scrolled": false
   },
   "outputs": [
    {
     "data": {
      "text/plain": [
       "srch_id                              0\n",
       "date_time                            0\n",
       "site_id                              0\n",
       "visitor_location_country_id          0\n",
       "prop_country_id                      0\n",
       "prop_id                              0\n",
       "prop_starrating                      0\n",
       "prop_review_score                 7364\n",
       "prop_brand_bool                      0\n",
       "prop_location_score1                 0\n",
       "prop_location_score2           1090348\n",
       "prop_log_historical_price            0\n",
       "position                             0\n",
       "price_usd                            0\n",
       "promotion_flag                       0\n",
       "srch_destination_id                  0\n",
       "srch_length_of_stay                  0\n",
       "srch_booking_window                  0\n",
       "srch_adults_count                    0\n",
       "srch_children_count                  0\n",
       "srch_room_count                      0\n",
       "srch_saturday_night_bool             0\n",
       "random_bool                          0\n",
       "click_bool                           0\n",
       "booking_bool                         0\n",
       "dtype: int64"
      ]
     },
     "execution_count": 5,
     "metadata": {},
     "output_type": "execute_result"
    }
   ],
   "source": [
    "null_values = df.isnull().sum()\n",
    "to_keep = null_values.index[np.asarray(null_values/df['srch_id'].count() < 0.30)]\n",
    "df_no_na = df[to_keep]\n",
    "df_no_na.isnull().sum()"
   ]
  },
  {
   "cell_type": "markdown",
   "metadata": {},
   "source": [
    "Prop_review_score en Prop_location_score2 hebben nog NA's dus die moeten we imputen. Heb ze nu allebei ge-impute aan de hand van hun distributie, maar we kunnen misschien ook nog prop_location_score2 imputen adhv de andere location score maar weet niet echt goed hoe"
   ]
  },
  {
   "cell_type": "code",
   "execution_count": 6,
   "metadata": {},
   "outputs": [
    {
     "data": {
      "text/plain": [
       "<matplotlib.axes._subplots.AxesSubplot at 0x101e7e590>"
      ]
     },
     "execution_count": 6,
     "metadata": {},
     "output_type": "execute_result"
    },
    {
     "data": {
      "image/png": "[encoded data removed]",
      "text/plain": [
       "<Figure size 432x288 with 1 Axes>"
      ]
     },
     "metadata": {
      "needs_background": "light"
     },
     "output_type": "display_data"
    }
   ],
   "source": [
    "\n",
    "# data_no_na['prop_review_score'].value_counts()\n",
    "# data_no_na['prop_review_score'].head()\n",
    "sns.countplot(df_no_na['prop_review_score'])"
   ]
  },
  {
   "cell_type": "code",
   "execution_count": 7,
   "metadata": {},
   "outputs": [
    {
     "name": "stderr",
     "output_type": "stream",
     "text": [
      "/Users/robinschijf/opt/anaconda3/lib/python3.7/site-packages/pandas/core/indexing.py:965: SettingWithCopyWarning: \n",
      "A value is trying to be set on a copy of a slice from a DataFrame.\n",
      "Try using .loc[row_indexer,col_indexer] = value instead\n",
      "\n",
      "See the caveats in the documentation: https://pandas.pydata.org/pandas-docs/stable/user_guide/indexing.html#returning-a-view-versus-a-copy\n",
      "  self.obj[item] = s\n"
     ]
    }
   ],
   "source": [
    "probs = df_no_na['prop_review_score'].value_counts(normalize=True)\n",
    "isnull = df_no_na['prop_review_score'].isnull()\n",
    "np.random.seed(15)\n",
    "df_no_na.loc[isnull, 'prop_review_score'] = np.random.choice(probs.index, size=len(df[isnull]), p=probs.values)"
   ]
  },
  {
   "cell_type": "code",
   "execution_count": 8,
   "metadata": {
    "scrolled": true
   },
   "outputs": [
    {
     "name": "stderr",
     "output_type": "stream",
     "text": [
      "/Users/robinschijf/opt/anaconda3/lib/python3.7/site-packages/ipykernel_launcher.py:1: SettingWithCopyWarning: \n",
      "A value is trying to be set on a copy of a slice from a DataFrame.\n",
      "Try using .loc[row_indexer,col_indexer] = value instead\n",
      "\n",
      "See the caveats in the documentation: https://pandas.pydata.org/pandas-docs/stable/user_guide/indexing.html#returning-a-view-versus-a-copy\n",
      "  \"\"\"Entry point for launching an IPython kernel.\n"
     ]
    },
    {
     "data": {
      "text/plain": [
       "srch_id                        0\n",
       "date_time                      0\n",
       "site_id                        0\n",
       "visitor_location_country_id    0\n",
       "prop_country_id                0\n",
       "prop_id                        0\n",
       "prop_starrating                0\n",
       "prop_review_score              0\n",
       "prop_brand_bool                0\n",
       "prop_location_score1           0\n",
       "prop_location_score2           0\n",
       "prop_log_historical_price      0\n",
       "position                       0\n",
       "price_usd                      0\n",
       "promotion_flag                 0\n",
       "srch_destination_id            0\n",
       "srch_length_of_stay            0\n",
       "srch_booking_window            0\n",
       "srch_adults_count              0\n",
       "srch_children_count            0\n",
       "srch_room_count                0\n",
       "srch_saturday_night_bool       0\n",
       "random_bool                    0\n",
       "click_bool                     0\n",
       "booking_bool                   0\n",
       "dtype: int64"
      ]
     },
     "execution_count": 8,
     "metadata": {},
     "output_type": "execute_result"
    }
   ],
   "source": [
    "df_no_na['prop_location_score2'] = df['prop_location_score2']\n",
    "probs = df_no_na['prop_location_score2'].value_counts(normalize=True)\n",
    "isnull = df_no_na['prop_location_score2'].isnull()\n",
    "np.random.seed(15)\n",
    "df_no_na.loc[isnull, 'prop_location_score2'] = np.random.choice(probs.index, size=len(df[isnull]), p=probs.values)\n",
    "df_no_na.isnull().sum()"
   ]
  },
  {
   "cell_type": "markdown",
   "metadata": {},
   "source": [
    "Geen NA's meer nu. Is nog wel te veel data om chill mee te kunnen werken, dus heb de data naar een vijfde gedownsampled, dus van 199795 naar 40000 search id's. Is denk ik nog steeds genoeg data om goed mee te kunnen werken en we kunnen op het einde wel weer op de volledige data het model trainen"
   ]
  },
  {
   "cell_type": "code",
   "execution_count": 9,
   "metadata": {},
   "outputs": [
    {
     "name": "stdout",
     "output_type": "stream",
     "text": [
      "<class 'pandas.core.frame.DataFrame'>\n",
      "Int64Index: 996086 entries, 86 to 4958175\n",
      "Data columns (total 25 columns):\n",
      " #   Column                       Non-Null Count   Dtype  \n",
      "---  ------                       --------------   -----  \n",
      " 0   srch_id                      996086 non-null  int64  \n",
      " 1   date_time                    996086 non-null  object \n",
      " 2   site_id                      996086 non-null  int64  \n",
      " 3   visitor_location_country_id  996086 non-null  int64  \n",
      " 4   prop_country_id              996086 non-null  int64  \n",
      " 5   prop_id                      996086 non-null  int64  \n",
      " 6   prop_starrating              996086 non-null  int64  \n",
      " 7   prop_review_score            996086 non-null  float64\n",
      " 8   prop_brand_bool              996086 non-null  int64  \n",
      " 9   prop_location_score1         996086 non-null  float64\n",
      " 10  prop_location_score2         996086 non-null  float64\n",
      " 11  prop_log_historical_price    996086 non-null  float64\n",
      " 12  position                     996086 non-null  int64  \n",
      " 13  price_usd                    996086 non-null  float64\n",
      " 14  promotion_flag               996086 non-null  int64  \n",
      " 15  srch_destination_id          996086 non-null  int64  \n",
      " 16  srch_length_of_stay          996086 non-null  int64  \n",
      " 17  srch_booking_window          996086 non-null  int64  \n",
      " 18  srch_adults_count            996086 non-null  int64  \n",
      " 19  srch_children_count          996086 non-null  int64  \n",
      " 20  srch_room_count              996086 non-null  int64  \n",
      " 21  srch_saturday_night_bool     996086 non-null  int64  \n",
      " 22  random_bool                  996086 non-null  int64  \n",
      " 23  click_bool                   996086 non-null  int64  \n",
      " 24  booking_bool                 996086 non-null  int64  \n",
      "dtypes: float64(5), int64(19), object(1)\n",
      "memory usage: 197.6+ MB\n"
     ]
    }
   ],
   "source": [
    "a = np.asarray(list(set(df_no_na['srch_id'].values))) # 199795 unique searches\n",
    "\n",
    "np.random.seed(15)\n",
    "subset_users = np.random.choice(a, size=40000, replace=False) # downsample to 40000\n",
    "\n",
    "subset_df = df_no_na.loc[df_no_na['srch_id'].isin(subset_users)]\n",
    "subset_df.info() # van 4958347 naar 996086 values"
   ]
  },
  {
   "cell_type": "code",
   "execution_count": 96,
   "metadata": {
    "scrolled": true
   },
   "outputs": [
    {
     "data": {
      "text/html": [
       "<div>\n",
       "<style scoped>\n",
       "    .dataframe tbody tr th:only-of-type {\n",
       "        vertical-align: middle;\n",
       "    }\n",
       "\n",
       "    .dataframe tbody tr th {\n",
       "        vertical-align: top;\n",
       "    }\n",
       "\n",
       "    .dataframe thead th {\n",
       "        text-align: right;\n",
       "    }\n",
       "</style>\n",
       "<table border=\"1\" class=\"dataframe\">\n",
       "  <thead>\n",
       "    <tr style=\"text-align: right;\">\n",
       "      <th></th>\n",
       "      <th>srch_id</th>\n",
       "      <th>site_id</th>\n",
       "      <th>visitor_location_country_id</th>\n",
       "      <th>prop_country_id</th>\n",
       "      <th>prop_id</th>\n",
       "      <th>prop_starrating</th>\n",
       "      <th>prop_review_score</th>\n",
       "      <th>prop_brand_bool</th>\n",
       "      <th>prop_location_score1</th>\n",
       "      <th>prop_location_score2</th>\n",
       "      <th>prop_log_historical_price</th>\n",
       "      <th>position</th>\n",
       "      <th>price_usd</th>\n",
       "      <th>promotion_flag</th>\n",
       "      <th>srch_destination_id</th>\n",
       "      <th>srch_length_of_stay</th>\n",
       "      <th>srch_booking_window</th>\n",
       "      <th>srch_adults_count</th>\n",
       "      <th>srch_children_count</th>\n",
       "      <th>srch_room_count</th>\n",
       "      <th>srch_saturday_night_bool</th>\n",
       "      <th>random_bool</th>\n",
       "      <th>click_bool</th>\n",
       "      <th>booking_bool</th>\n",
       "    </tr>\n",
       "  </thead>\n",
       "  <tbody>\n",
       "    <tr>\n",
       "      <th>count</th>\n",
       "      <td>996086.000000</td>\n",
       "      <td>996086.000000</td>\n",
       "      <td>996086.000000</td>\n",
       "      <td>996086.000000</td>\n",
       "      <td>996086.000000</td>\n",
       "      <td>996086.000000</td>\n",
       "      <td>996086.000000</td>\n",
       "      <td>996086.000000</td>\n",
       "      <td>996086.000000</td>\n",
       "      <td>996086.000000</td>\n",
       "      <td>996086.000000</td>\n",
       "      <td>996086.000000</td>\n",
       "      <td>9.960860e+05</td>\n",
       "      <td>996086.000000</td>\n",
       "      <td>996086.000000</td>\n",
       "      <td>996086.000000</td>\n",
       "      <td>996086.000000</td>\n",
       "      <td>996086.000000</td>\n",
       "      <td>996086.000000</td>\n",
       "      <td>996086.000000</td>\n",
       "      <td>996086.000000</td>\n",
       "      <td>996086.000000</td>\n",
       "      <td>996086.000000</td>\n",
       "      <td>996086.000000</td>\n",
       "    </tr>\n",
       "    <tr>\n",
       "      <th>mean</th>\n",
       "      <td>166462.433337</td>\n",
       "      <td>9.987077</td>\n",
       "      <td>175.197512</td>\n",
       "      <td>173.718776</td>\n",
       "      <td>70054.459196</td>\n",
       "      <td>3.186080</td>\n",
       "      <td>3.777985</td>\n",
       "      <td>0.633380</td>\n",
       "      <td>2.882337</td>\n",
       "      <td>0.130002</td>\n",
       "      <td>4.321455</td>\n",
       "      <td>16.882795</td>\n",
       "      <td>3.165449e+02</td>\n",
       "      <td>0.217030</td>\n",
       "      <td>14021.783371</td>\n",
       "      <td>2.391396</td>\n",
       "      <td>37.871385</td>\n",
       "      <td>1.968919</td>\n",
       "      <td>0.344793</td>\n",
       "      <td>1.108642</td>\n",
       "      <td>0.507022</td>\n",
       "      <td>0.295227</td>\n",
       "      <td>0.044573</td>\n",
       "      <td>0.027825</td>\n",
       "    </tr>\n",
       "    <tr>\n",
       "      <th>std</th>\n",
       "      <td>96192.478407</td>\n",
       "      <td>7.671565</td>\n",
       "      <td>66.017901</td>\n",
       "      <td>68.393644</td>\n",
       "      <td>40622.828203</td>\n",
       "      <td>1.049533</td>\n",
       "      <td>1.053763</td>\n",
       "      <td>0.481882</td>\n",
       "      <td>1.533672</td>\n",
       "      <td>0.159233</td>\n",
       "      <td>1.835872</td>\n",
       "      <td>10.424519</td>\n",
       "      <td>2.608549e+04</td>\n",
       "      <td>0.412224</td>\n",
       "      <td>8090.335663</td>\n",
       "      <td>2.052430</td>\n",
       "      <td>52.883155</td>\n",
       "      <td>0.844336</td>\n",
       "      <td>0.723522</td>\n",
       "      <td>0.415502</td>\n",
       "      <td>0.499951</td>\n",
       "      <td>0.456145</td>\n",
       "      <td>0.206365</td>\n",
       "      <td>0.164471</td>\n",
       "    </tr>\n",
       "    <tr>\n",
       "      <th>min</th>\n",
       "      <td>11.000000</td>\n",
       "      <td>1.000000</td>\n",
       "      <td>1.000000</td>\n",
       "      <td>2.000000</td>\n",
       "      <td>1.000000</td>\n",
       "      <td>0.000000</td>\n",
       "      <td>0.000000</td>\n",
       "      <td>0.000000</td>\n",
       "      <td>0.000000</td>\n",
       "      <td>0.000000</td>\n",
       "      <td>0.000000</td>\n",
       "      <td>1.000000</td>\n",
       "      <td>0.000000e+00</td>\n",
       "      <td>0.000000</td>\n",
       "      <td>10.000000</td>\n",
       "      <td>1.000000</td>\n",
       "      <td>0.000000</td>\n",
       "      <td>1.000000</td>\n",
       "      <td>0.000000</td>\n",
       "      <td>1.000000</td>\n",
       "      <td>0.000000</td>\n",
       "      <td>0.000000</td>\n",
       "      <td>0.000000</td>\n",
       "      <td>0.000000</td>\n",
       "    </tr>\n",
       "    <tr>\n",
       "      <th>25%</th>\n",
       "      <td>83104.000000</td>\n",
       "      <td>5.000000</td>\n",
       "      <td>100.000000</td>\n",
       "      <td>100.000000</td>\n",
       "      <td>34950.000000</td>\n",
       "      <td>3.000000</td>\n",
       "      <td>3.500000</td>\n",
       "      <td>0.000000</td>\n",
       "      <td>1.790000</td>\n",
       "      <td>0.019000</td>\n",
       "      <td>4.450000</td>\n",
       "      <td>8.000000</td>\n",
       "      <td>8.525000e+01</td>\n",
       "      <td>0.000000</td>\n",
       "      <td>7120.000000</td>\n",
       "      <td>1.000000</td>\n",
       "      <td>4.000000</td>\n",
       "      <td>2.000000</td>\n",
       "      <td>0.000000</td>\n",
       "      <td>1.000000</td>\n",
       "      <td>0.000000</td>\n",
       "      <td>0.000000</td>\n",
       "      <td>0.000000</td>\n",
       "      <td>0.000000</td>\n",
       "    </tr>\n",
       "    <tr>\n",
       "      <th>50%</th>\n",
       "      <td>166201.000000</td>\n",
       "      <td>5.000000</td>\n",
       "      <td>219.000000</td>\n",
       "      <td>219.000000</td>\n",
       "      <td>69607.000000</td>\n",
       "      <td>3.000000</td>\n",
       "      <td>4.000000</td>\n",
       "      <td>1.000000</td>\n",
       "      <td>2.770000</td>\n",
       "      <td>0.069000</td>\n",
       "      <td>4.920000</td>\n",
       "      <td>16.000000</td>\n",
       "      <td>1.227000e+02</td>\n",
       "      <td>0.000000</td>\n",
       "      <td>13570.000000</td>\n",
       "      <td>2.000000</td>\n",
       "      <td>17.000000</td>\n",
       "      <td>2.000000</td>\n",
       "      <td>0.000000</td>\n",
       "      <td>1.000000</td>\n",
       "      <td>1.000000</td>\n",
       "      <td>0.000000</td>\n",
       "      <td>0.000000</td>\n",
       "      <td>0.000000</td>\n",
       "    </tr>\n",
       "    <tr>\n",
       "      <th>75%</th>\n",
       "      <td>249881.000000</td>\n",
       "      <td>14.000000</td>\n",
       "      <td>219.000000</td>\n",
       "      <td>219.000000</td>\n",
       "      <td>105184.750000</td>\n",
       "      <td>4.000000</td>\n",
       "      <td>4.500000</td>\n",
       "      <td>1.000000</td>\n",
       "      <td>4.040000</td>\n",
       "      <td>0.179600</td>\n",
       "      <td>5.320000</td>\n",
       "      <td>26.000000</td>\n",
       "      <td>1.860000e+02</td>\n",
       "      <td>0.000000</td>\n",
       "      <td>21002.000000</td>\n",
       "      <td>3.000000</td>\n",
       "      <td>49.000000</td>\n",
       "      <td>2.000000</td>\n",
       "      <td>0.000000</td>\n",
       "      <td>1.000000</td>\n",
       "      <td>1.000000</td>\n",
       "      <td>1.000000</td>\n",
       "      <td>0.000000</td>\n",
       "      <td>0.000000</td>\n",
       "    </tr>\n",
       "    <tr>\n",
       "      <th>max</th>\n",
       "      <td>332765.000000</td>\n",
       "      <td>34.000000</td>\n",
       "      <td>231.000000</td>\n",
       "      <td>230.000000</td>\n",
       "      <td>140821.000000</td>\n",
       "      <td>5.000000</td>\n",
       "      <td>5.000000</td>\n",
       "      <td>1.000000</td>\n",
       "      <td>6.980000</td>\n",
       "      <td>1.000000</td>\n",
       "      <td>6.210000</td>\n",
       "      <td>40.000000</td>\n",
       "      <td>1.972633e+07</td>\n",
       "      <td>1.000000</td>\n",
       "      <td>28407.000000</td>\n",
       "      <td>29.000000</td>\n",
       "      <td>471.000000</td>\n",
       "      <td>9.000000</td>\n",
       "      <td>9.000000</td>\n",
       "      <td>8.000000</td>\n",
       "      <td>1.000000</td>\n",
       "      <td>1.000000</td>\n",
       "      <td>1.000000</td>\n",
       "      <td>1.000000</td>\n",
       "    </tr>\n",
       "  </tbody>\n",
       "</table>\n",
       "</div>"
      ],
      "text/plain": [
       "             srch_id        site_id  visitor_location_country_id  \\\n",
       "count  996086.000000  996086.000000                996086.000000   \n",
       "mean   166462.433337       9.987077                   175.197512   \n",
       "std     96192.478407       7.671565                    66.017901   \n",
       "min        11.000000       1.000000                     1.000000   \n",
       "25%     83104.000000       5.000000                   100.000000   \n",
       "50%    166201.000000       5.000000                   219.000000   \n",
       "75%    249881.000000      14.000000                   219.000000   \n",
       "max    332765.000000      34.000000                   231.000000   \n",
       "\n",
       "       prop_country_id        prop_id  prop_starrating  prop_review_score  \\\n",
       "count    996086.000000  996086.000000    996086.000000      996086.000000   \n",
       "mean        173.718776   70054.459196         3.186080           3.777985   \n",
       "std          68.393644   40622.828203         1.049533           1.053763   \n",
       "min           2.000000       1.000000         0.000000           0.000000   \n",
       "25%         100.000000   34950.000000         3.000000           3.500000   \n",
       "50%         219.000000   69607.000000         3.000000           4.000000   \n",
       "75%         219.000000  105184.750000         4.000000           4.500000   \n",
       "max         230.000000  140821.000000         5.000000           5.000000   \n",
       "\n",
       "       prop_brand_bool  prop_location_score1  prop_location_score2  \\\n",
       "count    996086.000000         996086.000000         996086.000000   \n",
       "mean          0.633380              2.882337              0.130002   \n",
       "std           0.481882              1.533672              0.159233   \n",
       "min           0.000000              0.000000              0.000000   \n",
       "25%           0.000000              1.790000              0.019000   \n",
       "50%           1.000000              2.770000              0.069000   \n",
       "75%           1.000000              4.040000              0.179600   \n",
       "max           1.000000              6.980000              1.000000   \n",
       "\n",
       "       prop_log_historical_price       position     price_usd  promotion_flag  \\\n",
       "count              996086.000000  996086.000000  9.960860e+05   996086.000000   \n",
       "mean                    4.321455      16.882795  3.165449e+02        0.217030   \n",
       "std                     1.835872      10.424519  2.608549e+04        0.412224   \n",
       "min                     0.000000       1.000000  0.000000e+00        0.000000   \n",
       "25%                     4.450000       8.000000  8.525000e+01        0.000000   \n",
       "50%                     4.920000      16.000000  1.227000e+02        0.000000   \n",
       "75%                     5.320000      26.000000  1.860000e+02        0.000000   \n",
       "max                     6.210000      40.000000  1.972633e+07        1.000000   \n",
       "\n",
       "       srch_destination_id  srch_length_of_stay  srch_booking_window  \\\n",
       "count        996086.000000        996086.000000        996086.000000   \n",
       "mean          14021.783371             2.391396            37.871385   \n",
       "std            8090.335663             2.052430            52.883155   \n",
       "min              10.000000             1.000000             0.000000   \n",
       "25%            7120.000000             1.000000             4.000000   \n",
       "50%           13570.000000             2.000000            17.000000   \n",
       "75%           21002.000000             3.000000            49.000000   \n",
       "max           28407.000000            29.000000           471.000000   \n",
       "\n",
       "       srch_adults_count  srch_children_count  srch_room_count  \\\n",
       "count      996086.000000        996086.000000    996086.000000   \n",
       "mean            1.968919             0.344793         1.108642   \n",
       "std             0.844336             0.723522         0.415502   \n",
       "min             1.000000             0.000000         1.000000   \n",
       "25%             2.000000             0.000000         1.000000   \n",
       "50%             2.000000             0.000000         1.000000   \n",
       "75%             2.000000             0.000000         1.000000   \n",
       "max             9.000000             9.000000         8.000000   \n",
       "\n",
       "       srch_saturday_night_bool    random_bool     click_bool   booking_bool  \n",
       "count             996086.000000  996086.000000  996086.000000  996086.000000  \n",
       "mean                   0.507022       0.295227       0.044573       0.027825  \n",
       "std                    0.499951       0.456145       0.206365       0.164471  \n",
       "min                    0.000000       0.000000       0.000000       0.000000  \n",
       "25%                    0.000000       0.000000       0.000000       0.000000  \n",
       "50%                    1.000000       0.000000       0.000000       0.000000  \n",
       "75%                    1.000000       1.000000       0.000000       0.000000  \n",
       "max                    1.000000       1.000000       1.000000       1.000000  "
      ]
     },
     "execution_count": 96,
     "metadata": {},
     "output_type": "execute_result"
    }
   ],
   "source": [
    "subset_df.describe()"
   ]
  },
  {
   "cell_type": "code",
   "execution_count": 11,
   "metadata": {
    "scrolled": true
   },
   "outputs": [
    {
     "name": "stdout",
     "output_type": "stream",
     "text": [
      "0    0.955427\n",
      "1    0.044573\n",
      "Name: click_bool, dtype: float64\n",
      "0    0.972175\n",
      "1    0.027825\n",
      "Name: booking_bool, dtype: float64\n"
     ]
    }
   ],
   "source": [
    "print(subset_df['click_bool'].value_counts(normalize=True))\n",
    "print(subset_df['booking_bool'].value_counts(normalize=True))"
   ]
  },
  {
   "cell_type": "markdown",
   "metadata": {},
   "source": [
    "Op maar 4.4% van de hotels wordt geklikt, en 2.8% krijgt een booking"
   ]
  },
  {
   "cell_type": "code",
   "execution_count": 12,
   "metadata": {
    "scrolled": true
   },
   "outputs": [
    {
     "data": {
      "text/plain": [
       "<matplotlib.axes._subplots.AxesSubplot at 0x1a16296250>"
      ]
     },
     "execution_count": 12,
     "metadata": {},
     "output_type": "execute_result"
    },
    {
     "data": {
      "image/png": "[encoded data removed]",
      "text/plain": [
       "<Figure size 432x288 with 1 Axes>"
      ]
     },
     "metadata": {
      "needs_background": "light"
     },
     "output_type": "display_data"
    }
   ],
   "source": [
    "sns.barplot(subset_df['prop_starrating'], subset_df['click_bool'])"
   ]
  },
  {
   "cell_type": "code",
   "execution_count": 13,
   "metadata": {},
   "outputs": [
    {
     "data": {
      "text/plain": [
       "<matplotlib.axes._subplots.AxesSubplot at 0x1a2c583d10>"
      ]
     },
     "execution_count": 13,
     "metadata": {},
     "output_type": "execute_result"
    },
    {
     "data": {
      "image/png": "[encoded data removed]",
      "text/plain": [
       "<Figure size 432x288 with 1 Axes>"
      ]
     },
     "metadata": {
      "needs_background": "light"
     },
     "output_type": "display_data"
    }
   ],
   "source": [
    "sns.barplot(subset_df['prop_starrating'], subset_df['price_usd'])"
   ]
  },
  {
   "cell_type": "markdown",
   "metadata": {},
   "source": [
    "Er wordt het meest geklikt op een 4-sterren hotel, maar alsnog maar 5% van die hotels."
   ]
  },
  {
   "cell_type": "code",
   "execution_count": 14,
   "metadata": {
    "scrolled": true
   },
   "outputs": [
    {
     "data": {
      "text/plain": [
       "<matplotlib.axes._subplots.AxesSubplot at 0x1a2c3ecc90>"
      ]
     },
     "execution_count": 14,
     "metadata": {},
     "output_type": "execute_result"
    },
    {
     "data": {
      "image/png": "[encoded data removed]",
      "text/plain": [
       "<Figure size 432x288 with 1 Axes>"
      ]
     },
     "metadata": {
      "needs_background": "light"
     },
     "output_type": "display_data"
    }
   ],
   "source": [
    "clicked = subset_df[subset_df['click_bool'] == 1]\n",
    "\n",
    "sns.barplot(clicked['position'], clicked['booking_bool'])"
   ]
  },
  {
   "cell_type": "markdown",
   "metadata": {},
   "source": [
    "Hogere positie = meer kans om geboekt te worden bij hotels waarop geklikt is"
   ]
  },
  {
   "cell_type": "code",
   "execution_count": 15,
   "metadata": {},
   "outputs": [
    {
     "data": {
      "text/plain": [
       "<matplotlib.axes._subplots.AxesSubplot at 0x1a3fc14610>"
      ]
     },
     "execution_count": 15,
     "metadata": {},
     "output_type": "execute_result"
    },
    {
     "data": {
      "image/png": "[encoded data removed]",
      "text/plain": [
       "<Figure size 432x288 with 1 Axes>"
      ]
     },
     "metadata": {
      "needs_background": "light"
     },
     "output_type": "display_data"
    }
   ],
   "source": [
    "sns.barplot(subset_df['prop_review_score'], subset_df['click_bool'])"
   ]
  },
  {
   "cell_type": "code",
   "execution_count": 16,
   "metadata": {},
   "outputs": [
    {
     "data": {
      "text/plain": [
       "<matplotlib.axes._subplots.AxesSubplot at 0x1a19b2ee50>"
      ]
     },
     "execution_count": 16,
     "metadata": {},
     "output_type": "execute_result"
    },
    {
     "data": {
      "image/png": "[encoded data removed]",
      "text/plain": [
       "<Figure size 432x288 with 1 Axes>"
      ]
     },
     "metadata": {
      "needs_background": "light"
     },
     "output_type": "display_data"
    }
   ],
   "source": [
    "sns.barplot(subset_df['promotion_flag'], subset_df['click_bool'])"
   ]
  },
  {
   "cell_type": "markdown",
   "metadata": {},
   "source": [
    "Wordt meer geklikt op hotels die een promotion flag hebben"
   ]
  },
  {
   "cell_type": "code",
   "execution_count": 19,
   "metadata": {},
   "outputs": [
    {
     "data": {
      "text/plain": [
       "count    996086.000000\n",
       "mean          3.186080\n",
       "std           1.049533\n",
       "min           0.000000\n",
       "25%           3.000000\n",
       "50%           3.000000\n",
       "75%           4.000000\n",
       "max           5.000000\n",
       "Name: prop_starrating, dtype: float64"
      ]
     },
     "execution_count": 19,
     "metadata": {},
     "output_type": "execute_result"
    }
   ],
   "source": [
    "subset_df[\"prop_starrating\"].describe()"
   ]
  },
  {
   "cell_type": "code",
   "execution_count": 20,
   "metadata": {},
   "outputs": [
    {
     "data": {
      "text/plain": [
       "count    996086.000000\n",
       "mean          2.882337\n",
       "std           1.533672\n",
       "min           0.000000\n",
       "25%           1.790000\n",
       "50%           2.770000\n",
       "75%           4.040000\n",
       "max           6.980000\n",
       "Name: prop_location_score1, dtype: float64"
      ]
     },
     "execution_count": 20,
     "metadata": {},
     "output_type": "execute_result"
    }
   ],
   "source": [
    "subset_df[\"prop_location_score1\"].describe()"
   ]
  },
  {
   "cell_type": "code",
   "execution_count": 21,
   "metadata": {},
   "outputs": [
    {
     "data": {
      "text/plain": [
       "<matplotlib.axes._subplots.AxesSubplot at 0x1a1d397850>"
      ]
     },
     "execution_count": 21,
     "metadata": {},
     "output_type": "execute_result"
    },
    {
     "data": {
      "image/png": "[encoded data removed]",
      "text/plain": [
       "<Figure size 432x288 with 1 Axes>"
      ]
     },
     "metadata": {
      "needs_background": "light"
     },
     "output_type": "display_data"
    }
   ],
   "source": [
    "random = subset_df[subset_df['random_bool'] == 1]\n",
    "sns.barplot(random['position'], random['booking_bool'])"
   ]
  },
  {
   "cell_type": "markdown",
   "metadata": {},
   "source": [
    "Positie bias? Zelfs als de volgorde van hotels random is, worden de hotels bovenaan het meest geboekt."
   ]
  },
  {
   "cell_type": "code",
   "execution_count": 23,
   "metadata": {},
   "outputs": [
    {
     "name": "stdout",
     "output_type": "stream",
     "text": [
      "Pearsons correlation: 0.336\n"
     ]
    }
   ],
   "source": [
    "corr, _ = pearsonr(subset_df['prop_location_score2'], subset_df['prop_location_score1'])\n",
    "print('Pearsons correlation: %.3f' % corr)"
   ]
  },
  {
   "cell_type": "markdown",
   "metadata": {},
   "source": [
    "Geen correlatie tussen prop location score 1 en 2"
   ]
  },
  {
   "cell_type": "code",
   "execution_count": 26,
   "metadata": {},
   "outputs": [
    {
     "data": {
      "text/plain": [
       "<matplotlib.axes._subplots.AxesSubplot at 0x1a1947fb50>"
      ]
     },
     "execution_count": 26,
     "metadata": {},
     "output_type": "execute_result"
    },
    {
     "data": {
      "image/png": "[encoded data removed]",
      "text/plain": [
       "<Figure size 432x288 with 1 Axes>"
      ]
     },
     "metadata": {
      "needs_background": "light"
     },
     "output_type": "display_data"
    }
   ],
   "source": [
    "sns.boxplot(x=subset_df['price_usd'])"
   ]
  },
  {
   "cell_type": "markdown",
   "metadata": {},
   "source": [
    "Heel veel outliers in prijs!!"
   ]
  },
  {
   "cell_type": "code",
   "execution_count": 70,
   "metadata": {
    "scrolled": true
   },
   "outputs": [
    {
     "data": {
      "text/plain": [
       "count    9.960860e+05\n",
       "mean     3.165449e+02\n",
       "std      2.608549e+04\n",
       "min      0.000000e+00\n",
       "25%      8.525000e+01\n",
       "50%      1.227000e+02\n",
       "75%      1.860000e+02\n",
       "max      1.972633e+07\n",
       "Name: price_usd, dtype: float64"
      ]
     },
     "execution_count": 70,
     "metadata": {},
     "output_type": "execute_result"
    }
   ],
   "source": [
    "subset_df['price_usd'].describe()"
   ]
  },
  {
   "cell_type": "code",
   "execution_count": 99,
   "metadata": {},
   "outputs": [],
   "source": [
    "## outliers eruit halen\n",
    "q_low = subset_df[\"price_usd\"].quantile(0.01)\n",
    "q_hi  = subset_df[\"price_usd\"].quantile(0.99)\n",
    "\n",
    "df_filtered = subset_df[(subset_df[\"price_usd\"] < q_hi) & (subset_df[\"price_usd\"] > q_low)]"
   ]
  },
  {
   "cell_type": "code",
   "execution_count": 101,
   "metadata": {},
   "outputs": [
    {
     "data": {
      "text/plain": [
       "count    975984.000000\n",
       "mean        148.948708\n",
       "std          91.415312\n",
       "min          34.010000\n",
       "25%          86.550000\n",
       "50%         122.750000\n",
       "75%         183.580000\n",
       "max         600.840000\n",
       "Name: price_usd, dtype: float64"
      ]
     },
     "execution_count": 101,
     "metadata": {},
     "output_type": "execute_result"
    }
   ],
   "source": [
    "df_filtered['price_usd'].describe()"
   ]
  },
  {
   "cell_type": "code",
   "execution_count": 102,
   "metadata": {},
   "outputs": [
    {
     "data": {
      "text/plain": [
       "<matplotlib.axes._subplots.AxesSubplot at 0x1a176d8a90>"
      ]
     },
     "execution_count": 102,
     "metadata": {},
     "output_type": "execute_result"
    },
    {
     "data": {
      "image/png": "[encoded data removed]",
      "text/plain": [
       "<Figure size 432x288 with 1 Axes>"
      ]
     },
     "metadata": {
      "needs_background": "light"
     },
     "output_type": "display_data"
    }
   ],
   "source": [
    "sns.boxplot(x=df_filtered['price_usd'])"
   ]
  },
  {
   "cell_type": "markdown",
   "metadata": {},
   "source": [
    "Boxplot ziet er al veel beter uit! Maar weet niet zeker of we zomaar data mogen deleten op deze manier? Heb wel gezien dat er hotels in zitten van in de miljoen.. Wat niet kan omdat het duurste hotel 63000 per nacht is, dus duidelijk wel fouten in de data"
   ]
  },
  {
   "cell_type": "code",
   "execution_count": null,
   "metadata": {},
   "outputs": [],
   "source": []
  }
 ],
 "metadata": {
  "kernelspec": {
   "display_name": "Python 3",
   "language": "python",
   "name": "python3"
  },
  "language_info": {
   "codemirror_mode": {
    "name": "ipython",
    "version": 3
   },
   "file_extension": ".py",
   "mimetype": "text/x-python",
   "name": "python",
   "nbconvert_exporter": "python",
   "pygments_lexer": "ipython3",
   "version": "3.7.6"
  }
 },
 "nbformat": 4,
 "nbformat_minor": 2
}
