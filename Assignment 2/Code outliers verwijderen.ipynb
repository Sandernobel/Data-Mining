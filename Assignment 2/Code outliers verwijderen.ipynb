{
 "cells": [
  {
   "cell_type": "markdown",
   "metadata": {},
   "source": [
    "# Data mining assignment 2"
   ]
  },
  {
   "cell_type": "code",
   "execution_count": 1,
   "metadata": {},
   "outputs": [],
   "source": [
    "import pandas as pd\n",
    "import numpy as np\n",
    "import matplotlib.pyplot as plt\n",
    "import random as r\n",
    "import lightgbm as lgb\n",
    "\n",
    "\n",
    "from collections import Counter\n",
    "import seaborn as sns\n",
    "%matplotlib inline"
   ]
  },
  {
   "cell_type": "code",
   "execution_count": 2,
   "metadata": {},
   "outputs": [],
   "source": [
    "df = pd.read_csv('training_set_vu_DM.csv')\n",
    "df_test = pd.read_csv('test_set_vu_DM.csv')"
   ]
  },
  {
   "cell_type": "code",
   "execution_count": 3,
   "metadata": {},
   "outputs": [],
   "source": [
    "train_vals = max(df.count().values)\n",
    "test_vals = max(df_test.count().values)"
   ]
  },
  {
   "cell_type": "code",
   "execution_count": 4,
   "metadata": {
    "scrolled": true
   },
   "outputs": [],
   "source": [
    "pd.set_option('display.max_columns', None)\n",
    "pd.set_option('display.max_rows', None)\n",
    "pd.set_option('display.float_format', lambda x: '%.3f' % x)"
   ]
  },
  {
   "cell_type": "markdown",
   "metadata": {},
   "source": [
    "Veel missing values, verwijder alle features met meer dan 10% NA's (kan evt nog meer NA's worden, maar dat wordt wel meer imputen)"
   ]
  },
  {
   "cell_type": "code",
   "execution_count": 5,
   "metadata": {
    "scrolled": false
   },
   "outputs": [],
   "source": [
    "null_values = df.isnull().sum()\n",
    "to_keep = null_values.index[np.asarray(null_values/train_vals < 0.90)]\n",
    "df_no_na = df[to_keep]"
   ]
  },
  {
   "cell_type": "code",
   "execution_count": 6,
   "metadata": {},
   "outputs": [],
   "source": [
    "to_keep_test = [x for x in list(to_keep) if x not in ['position', 'click_bool', 'booking_bool']]\n",
    "df_test2 = df_test[to_keep_test]"
   ]
  },
  {
   "cell_type": "code",
   "execution_count": 7,
   "metadata": {},
   "outputs": [
    {
     "name": "stderr",
     "output_type": "stream",
     "text": [
      "/Users/robinschijf/opt/anaconda3/lib/python3.7/site-packages/ipykernel_launcher.py:25: SettingWithCopyWarning: \n",
      "A value is trying to be set on a copy of a slice from a DataFrame.\n",
      "Try using .loc[row_indexer,col_indexer] = value instead\n",
      "\n",
      "See the caveats in the documentation: https://pandas.pydata.org/pandas-docs/stable/user_guide/indexing.html#returning-a-view-versus-a-copy\n",
      "/Users/robinschijf/opt/anaconda3/lib/python3.7/site-packages/ipykernel_launcher.py:26: SettingWithCopyWarning: \n",
      "A value is trying to be set on a copy of a slice from a DataFrame.\n",
      "Try using .loc[row_indexer,col_indexer] = value instead\n",
      "\n",
      "See the caveats in the documentation: https://pandas.pydata.org/pandas-docs/stable/user_guide/indexing.html#returning-a-view-versus-a-copy\n",
      "/Users/robinschijf/opt/anaconda3/lib/python3.7/site-packages/ipykernel_launcher.py:28: SettingWithCopyWarning: \n",
      "A value is trying to be set on a copy of a slice from a DataFrame.\n",
      "Try using .loc[row_indexer,col_indexer] = value instead\n",
      "\n",
      "See the caveats in the documentation: https://pandas.pydata.org/pandas-docs/stable/user_guide/indexing.html#returning-a-view-versus-a-copy\n",
      "/Users/robinschijf/opt/anaconda3/lib/python3.7/site-packages/ipykernel_launcher.py:29: SettingWithCopyWarning: \n",
      "A value is trying to be set on a copy of a slice from a DataFrame.\n",
      "Try using .loc[row_indexer,col_indexer] = value instead\n",
      "\n",
      "See the caveats in the documentation: https://pandas.pydata.org/pandas-docs/stable/user_guide/indexing.html#returning-a-view-versus-a-copy\n"
     ]
    },
    {
     "data": {
      "text/plain": [
       "srch_id                              0\n",
       "date_time                            0\n",
       "site_id                              0\n",
       "visitor_location_country_id          0\n",
       "prop_country_id                      0\n",
       "prop_id                              0\n",
       "prop_starrating                      0\n",
       "prop_review_score                 7266\n",
       "prop_brand_bool                      0\n",
       "prop_location_score1                 0\n",
       "prop_location_score2           1088032\n",
       "prop_log_historical_price            0\n",
       "price_usd                            0\n",
       "promotion_flag                       0\n",
       "srch_destination_id                  0\n",
       "srch_length_of_stay                  0\n",
       "srch_booking_window                  0\n",
       "srch_adults_count                    0\n",
       "srch_children_count                  0\n",
       "srch_room_count                      0\n",
       "srch_saturday_night_bool             0\n",
       "orig_destination_distance      1608679\n",
       "random_bool                          0\n",
       "comp_rate                            0\n",
       "comp_inv                             0\n",
       "dtype: int64"
      ]
     },
     "execution_count": 7,
     "metadata": {},
     "output_type": "execute_result"
    }
   ],
   "source": [
    "comp_rate = pd.Series(np.zeros(train_vals,))\n",
    "comp_test_rate = pd.Series(np.zeros(test_vals,))\n",
    "for x in range(1,9):\n",
    "    temp_rate = np.where(df['comp'+str(x)+'_rate'].isnull(), 0, df['comp'+str(x)+'_rate'])\n",
    "    comp_rate += temp_rate\n",
    "    \n",
    "    temp_test_rate = np.where(df_test['comp'+str(x)+'_rate'].isnull(), 0, df_test['comp'+str(x)+'_rate'])\n",
    "    comp_test_rate += temp_test_rate\n",
    "comp_rate = np.where(comp_rate < -1, -1, comp_rate)\n",
    "comp_rate = pd.Series(np.where(comp_rate > 1, 1, comp_rate))\n",
    "\n",
    "comp_test_rate = np.where(comp_test_rate < -1, -1, comp_test_rate)\n",
    "comp_test_rate = pd.Series(np.where(comp_test_rate > 1, 1, comp_test_rate))\n",
    "\n",
    "comp_inv = pd.Series(np.zeros(train_vals,))\n",
    "comp_test_inv = pd.Series(np.zeros(test_vals,))\n",
    "for x in range(1,9):\n",
    "    temp_inv = np.where(df['comp'+str(x)+'_inv'].isnull(), 0, df['comp'+str(x)+'_inv'])\n",
    "    comp_inv += temp_inv\n",
    "    \n",
    "    temp_test_inv = np.where(df_test['comp'+str(x)+'_inv'].isnull(), 0, df_test['comp'+str(x)+'_inv'])\n",
    "    comp_test_inv += temp_test_inv\n",
    "    \n",
    "\n",
    "df_no_na['comp_rate'] = comp_rate\n",
    "df_no_na['comp_inv'] = comp_inv\n",
    "\n",
    "df_test2['comp_rate'] = comp_test_rate\n",
    "df_test2['comp_inv'] = comp_test_inv\n",
    "df_no_na2 = df_no_na.drop(['comp2_rate', 'comp3_rate', 'comp5_rate', 'comp8_rate',\n",
    "                           'comp2_inv', 'comp3_inv', 'comp5_inv', 'comp8_inv',\n",
    "                          'comp5_rate_percent_diff', 'comp8_rate_percent_diff', 'comp2_rate_percent_diff'], axis=1)\n",
    "df_test3 = df_test2.drop(['comp2_rate', 'comp3_rate', 'comp5_rate', 'comp8_rate',\n",
    "                           'comp2_inv', 'comp3_inv', 'comp5_inv', 'comp8_inv',\n",
    "                          'comp5_rate_percent_diff', 'comp8_rate_percent_diff', 'comp2_rate_percent_diff'], axis=1)\n",
    "df_test3.isnull().sum()"
   ]
  },
  {
   "cell_type": "markdown",
   "metadata": {},
   "source": [
    "Prop_review_score en Prop_location_score2 hebben nog NA's dus die moeten we imputen. Heb ze nu allebei ge-impute aan de hand van hun distributie, maar we kunnen misschien ook nog prop_location_score2 imputen adhv de andere location score maar weet niet echt goed hoe"
   ]
  },
  {
   "cell_type": "code",
   "execution_count": 8,
   "metadata": {},
   "outputs": [],
   "source": [
    "probs = df_no_na2['prop_review_score'].value_counts(normalize=True)\n",
    "isnull = df_no_na2['prop_review_score'].isnull()\n",
    "np.random.seed(15)\n",
    "df_no_na2.loc[isnull, 'prop_review_score'] = np.random.choice(probs.index, size=len(df[isnull]), p=probs.values)\n",
    "\n",
    "probs = df_test3['prop_review_score'].value_counts(normalize=True)\n",
    "isnull = df_test3['prop_review_score'].isnull()\n",
    "np.random.seed(15)\n",
    "df_test3.loc[isnull, 'prop_review_score'] = np.random.choice(probs.index, size=len(df_test[isnull]), p=probs.values)\n",
    "\n"
   ]
  },
  {
   "cell_type": "code",
   "execution_count": 10,
   "metadata": {
    "scrolled": true
   },
   "outputs": [],
   "source": [
    "df_no_na2['prop_location_score2'] = df['prop_location_score2']\n",
    "\n",
    "probs = df_no_na2['prop_location_score2'].value_counts(normalize=True)\n",
    "isnull = df_no_na2['prop_location_score2'].isnull()\n",
    "np.random.seed(15)\n",
    "df_no_na2.loc[isnull, 'prop_location_score2'] = np.random.choice(probs.index, size=len(df[isnull]), p=probs.values)\n",
    "\n",
    "df_test3['prop_location_score2'] = df_test['prop_location_score2']\n",
    "\n",
    "probs = df_test3['prop_location_score2'].value_counts(normalize=True)\n",
    "isnull = df_test3['prop_location_score2'].isnull()\n",
    "np.random.seed(15)\n",
    "df_test3.loc[isnull, 'prop_location_score2'] = np.random.choice(probs.index, size=len(df_test[isnull]), p=probs.values)"
   ]
  },
  {
   "cell_type": "code",
   "execution_count": 11,
   "metadata": {
    "scrolled": true
   },
   "outputs": [],
   "source": [
    "df_no_na2 = df_no_na2.drop(['orig_destination_distance'], axis=1)\n",
    "df_test3 = df_test3.drop(['orig_destination_distance'], axis=1)"
   ]
  },
  {
   "cell_type": "code",
   "execution_count": 12,
   "metadata": {},
   "outputs": [],
   "source": [
    "df_no_na2 = df_no_na2.drop(['date_time'], axis=1)\n",
    "df_test3 = df_test3.drop(['date_time'], axis=1)\n"
   ]
  },
  {
   "cell_type": "code",
   "execution_count": 53,
   "metadata": {},
   "outputs": [
    {
     "data": {
      "text/plain": [
       "<matplotlib.axes._subplots.AxesSubplot at 0x1a30ebd1d0>"
      ]
     },
     "execution_count": 53,
     "metadata": {},
     "output_type": "execute_result"
    },
    {
     "data": {
      "image/png": "[encoded data removed]",
      "text/plain": [
       "<Figure size 432x288 with 1 Axes>"
      ]
     },
     "metadata": {
      "needs_background": "light"
     },
     "output_type": "display_data"
    }
   ],
   "source": [
    "#Outliers verwijderen!\n",
    "std = df_no_na2['srch_length_of_stay'].std()\n",
    "mean = df_no_na2['srch_length_of_stay'].mean()\n",
    "cut_off = std * 3\n",
    "lower, upper = mean - cut_off, mean + cut_off\n",
    "trimmed_df = df_no_na2[(df_no_na2['srch_length_of_stay'] < upper) \\\n",
    "                           & (df_no_na2['srch_length_of_stay'] > lower)]\n",
    "sns.boxplot(x=trimmed_df['srch_length_of_stay'])"
   ]
  },
  {
   "cell_type": "code",
   "execution_count": 54,
   "metadata": {},
   "outputs": [
    {
     "data": {
      "text/plain": [
       "<matplotlib.axes._subplots.AxesSubplot at 0x1a30df9410>"
      ]
     },
     "execution_count": 54,
     "metadata": {},
     "output_type": "execute_result"
    },
    {
     "data": {
      "image/png": "[encoded data removed]",
      "text/plain": [
       "<Figure size 432x288 with 1 Axes>"
      ]
     },
     "metadata": {
      "needs_background": "light"
     },
     "output_type": "display_data"
    }
   ],
   "source": [
    "std = trimmed_df['prop_location_score2'].std()\n",
    "mean = trimmed_df['prop_location_score2'].mean()\n",
    "\n",
    "cut_off = std * 3\n",
    "lower, upper = mean - cut_off, mean + cut_off\n",
    "\n",
    "trimmed_df1 = trimmed_df[(trimmed_df['prop_location_score2'] < upper) \\\n",
    "                           & (trimmed_df['prop_location_score2'] > lower)]\n",
    "\n",
    "sns.boxplot(x=trimmed_df1['prop_location_score2'])"
   ]
  },
  {
   "cell_type": "code",
   "execution_count": 55,
   "metadata": {},
   "outputs": [
    {
     "data": {
      "text/plain": [
       "<matplotlib.axes._subplots.AxesSubplot at 0x1a328c72d0>"
      ]
     },
     "execution_count": 55,
     "metadata": {},
     "output_type": "execute_result"
    },
    {
     "data": {
      "image/png": "[encoded data removed]",
      "text/plain": [
       "<Figure size 432x288 with 1 Axes>"
      ]
     },
     "metadata": {
      "needs_background": "light"
     },
     "output_type": "display_data"
    }
   ],
   "source": [
    "std = trimmed_df1['srch_booking_window'].std()\n",
    "mean = trimmed_df1['srch_booking_window'].mean()\n",
    "\n",
    "cut_off = std * 3\n",
    "lower, upper = mean - cut_off, mean + cut_off\n",
    "\n",
    "trimmed_df2 = trimmed_df1[(trimmed_df1['srch_booking_window'] < upper) \\\n",
    "                           & (trimmed_df1['srch_booking_window'] > lower)]\n",
    "\n",
    "sns.boxplot(x=trimmed_df2['srch_booking_window'])"
   ]
  },
  {
   "cell_type": "code",
   "execution_count": 57,
   "metadata": {},
   "outputs": [],
   "source": [
    "q_low = trimmed_df2[\"price_usd\"].quantile(0.001)\n",
    "q_hi  = trimmed_df2[\"price_usd\"].quantile(0.999)\n",
    "\n",
    "trimmed_df3 = trimmed_df2[(trimmed_df2[\"price_usd\"] < q_hi) & (trimmed_df2[\"price_usd\"] > q_low)]"
   ]
  },
  {
   "cell_type": "code",
   "execution_count": 58,
   "metadata": {},
   "outputs": [
    {
     "data": {
      "text/plain": [
       "<matplotlib.axes._subplots.AxesSubplot at 0x1a32a0df90>"
      ]
     },
     "execution_count": 58,
     "metadata": {},
     "output_type": "execute_result"
    },
    {
     "data": {
      "image/png": "[encoded data removed]",
      "text/plain": [
       "<Figure size 432x288 with 1 Axes>"
      ]
     },
     "metadata": {
      "needs_background": "light"
     },
     "output_type": "display_data"
    }
   ],
   "source": [
    "sns.boxplot(x=trimmed_df3['price_usd'])"
   ]
  },
  {
   "cell_type": "code",
   "execution_count": 59,
   "metadata": {},
   "outputs": [
    {
     "data": {
      "text/html": [
       "<div>\n",
       "<style scoped>\n",
       "    .dataframe tbody tr th:only-of-type {\n",
       "        vertical-align: middle;\n",
       "    }\n",
       "\n",
       "    .dataframe tbody tr th {\n",
       "        vertical-align: top;\n",
       "    }\n",
       "\n",
       "    .dataframe thead th {\n",
       "        text-align: right;\n",
       "    }\n",
       "</style>\n",
       "<table border=\"1\" class=\"dataframe\">\n",
       "  <thead>\n",
       "    <tr style=\"text-align: right;\">\n",
       "      <th></th>\n",
       "      <th>srch_id</th>\n",
       "      <th>site_id</th>\n",
       "      <th>visitor_location_country_id</th>\n",
       "      <th>prop_country_id</th>\n",
       "      <th>prop_id</th>\n",
       "      <th>prop_starrating</th>\n",
       "      <th>prop_review_score</th>\n",
       "      <th>prop_brand_bool</th>\n",
       "      <th>prop_location_score1</th>\n",
       "      <th>prop_location_score2</th>\n",
       "      <th>prop_log_historical_price</th>\n",
       "      <th>position</th>\n",
       "      <th>price_usd</th>\n",
       "      <th>promotion_flag</th>\n",
       "      <th>srch_destination_id</th>\n",
       "      <th>srch_length_of_stay</th>\n",
       "      <th>srch_booking_window</th>\n",
       "      <th>srch_adults_count</th>\n",
       "      <th>srch_children_count</th>\n",
       "      <th>srch_room_count</th>\n",
       "      <th>srch_saturday_night_bool</th>\n",
       "      <th>random_bool</th>\n",
       "      <th>click_bool</th>\n",
       "      <th>booking_bool</th>\n",
       "      <th>comp_rate</th>\n",
       "      <th>comp_inv</th>\n",
       "    </tr>\n",
       "  </thead>\n",
       "  <tbody>\n",
       "    <tr>\n",
       "      <th>count</th>\n",
       "      <td>4639697.000</td>\n",
       "      <td>4639697.000</td>\n",
       "      <td>4639697.000</td>\n",
       "      <td>4639697.000</td>\n",
       "      <td>4639697.000</td>\n",
       "      <td>4639697.000</td>\n",
       "      <td>4639697.000</td>\n",
       "      <td>4639697.000</td>\n",
       "      <td>4639697.000</td>\n",
       "      <td>4639697.000</td>\n",
       "      <td>4639697.000</td>\n",
       "      <td>4639697.000</td>\n",
       "      <td>4639697.000</td>\n",
       "      <td>4639697.000</td>\n",
       "      <td>4639697.000</td>\n",
       "      <td>4639697.000</td>\n",
       "      <td>4639697.000</td>\n",
       "      <td>4639697.000</td>\n",
       "      <td>4639697.000</td>\n",
       "      <td>4639697.000</td>\n",
       "      <td>4639697.000</td>\n",
       "      <td>4639697.000</td>\n",
       "      <td>4639697.000</td>\n",
       "      <td>4639697.000</td>\n",
       "      <td>4639697.000</td>\n",
       "      <td>4639697.000</td>\n",
       "    </tr>\n",
       "    <tr>\n",
       "      <th>mean</th>\n",
       "      <td>166505.613</td>\n",
       "      <td>9.773</td>\n",
       "      <td>176.388</td>\n",
       "      <td>175.275</td>\n",
       "      <td>70136.759</td>\n",
       "      <td>3.170</td>\n",
       "      <td>3.780</td>\n",
       "      <td>0.644</td>\n",
       "      <td>2.830</td>\n",
       "      <td>0.117</td>\n",
       "      <td>4.301</td>\n",
       "      <td>16.947</td>\n",
       "      <td>151.299</td>\n",
       "      <td>0.214</td>\n",
       "      <td>14020.942</td>\n",
       "      <td>2.190</td>\n",
       "      <td>31.422</td>\n",
       "      <td>1.969</td>\n",
       "      <td>0.350</td>\n",
       "      <td>1.110</td>\n",
       "      <td>0.513</td>\n",
       "      <td>0.287</td>\n",
       "      <td>0.044</td>\n",
       "      <td>0.028</td>\n",
       "      <td>0.037</td>\n",
       "      <td>0.084</td>\n",
       "    </tr>\n",
       "    <tr>\n",
       "      <th>std</th>\n",
       "      <td>96126.246</td>\n",
       "      <td>7.519</td>\n",
       "      <td>65.390</td>\n",
       "      <td>67.499</td>\n",
       "      <td>40604.329</td>\n",
       "      <td>1.048</td>\n",
       "      <td>1.042</td>\n",
       "      <td>0.479</td>\n",
       "      <td>1.507</td>\n",
       "      <td>0.132</td>\n",
       "      <td>1.838</td>\n",
       "      <td>10.421</td>\n",
       "      <td>112.440</td>\n",
       "      <td>0.410</td>\n",
       "      <td>8105.927</td>\n",
       "      <td>1.517</td>\n",
       "      <td>39.184</td>\n",
       "      <td>0.856</td>\n",
       "      <td>0.733</td>\n",
       "      <td>0.416</td>\n",
       "      <td>0.500</td>\n",
       "      <td>0.452</td>\n",
       "      <td>0.205</td>\n",
       "      <td>0.164</td>\n",
       "      <td>0.500</td>\n",
       "      <td>0.442</td>\n",
       "    </tr>\n",
       "    <tr>\n",
       "      <th>min</th>\n",
       "      <td>1.000</td>\n",
       "      <td>1.000</td>\n",
       "      <td>1.000</td>\n",
       "      <td>1.000</td>\n",
       "      <td>1.000</td>\n",
       "      <td>0.000</td>\n",
       "      <td>0.000</td>\n",
       "      <td>0.000</td>\n",
       "      <td>0.000</td>\n",
       "      <td>0.000</td>\n",
       "      <td>0.000</td>\n",
       "      <td>1.000</td>\n",
       "      <td>14.200</td>\n",
       "      <td>0.000</td>\n",
       "      <td>2.000</td>\n",
       "      <td>1.000</td>\n",
       "      <td>0.000</td>\n",
       "      <td>1.000</td>\n",
       "      <td>0.000</td>\n",
       "      <td>1.000</td>\n",
       "      <td>0.000</td>\n",
       "      <td>0.000</td>\n",
       "      <td>0.000</td>\n",
       "      <td>0.000</td>\n",
       "      <td>-1.000</td>\n",
       "      <td>-6.000</td>\n",
       "    </tr>\n",
       "    <tr>\n",
       "      <th>25%</th>\n",
       "      <td>83054.000</td>\n",
       "      <td>5.000</td>\n",
       "      <td>100.000</td>\n",
       "      <td>100.000</td>\n",
       "      <td>35048.000</td>\n",
       "      <td>3.000</td>\n",
       "      <td>3.500</td>\n",
       "      <td>0.000</td>\n",
       "      <td>1.790</td>\n",
       "      <td>0.018</td>\n",
       "      <td>4.440</td>\n",
       "      <td>8.000</td>\n",
       "      <td>85.000</td>\n",
       "      <td>0.000</td>\n",
       "      <td>7100.000</td>\n",
       "      <td>1.000</td>\n",
       "      <td>4.000</td>\n",
       "      <td>2.000</td>\n",
       "      <td>0.000</td>\n",
       "      <td>1.000</td>\n",
       "      <td>0.000</td>\n",
       "      <td>0.000</td>\n",
       "      <td>0.000</td>\n",
       "      <td>0.000</td>\n",
       "      <td>0.000</td>\n",
       "      <td>0.000</td>\n",
       "    </tr>\n",
       "    <tr>\n",
       "      <th>50%</th>\n",
       "      <td>166702.000</td>\n",
       "      <td>5.000</td>\n",
       "      <td>219.000</td>\n",
       "      <td>219.000</td>\n",
       "      <td>69688.000</td>\n",
       "      <td>3.000</td>\n",
       "      <td>4.000</td>\n",
       "      <td>1.000</td>\n",
       "      <td>2.770</td>\n",
       "      <td>0.066</td>\n",
       "      <td>4.900</td>\n",
       "      <td>16.000</td>\n",
       "      <td>120.000</td>\n",
       "      <td>0.000</td>\n",
       "      <td>13539.000</td>\n",
       "      <td>2.000</td>\n",
       "      <td>15.000</td>\n",
       "      <td>2.000</td>\n",
       "      <td>0.000</td>\n",
       "      <td>1.000</td>\n",
       "      <td>1.000</td>\n",
       "      <td>0.000</td>\n",
       "      <td>0.000</td>\n",
       "      <td>0.000</td>\n",
       "      <td>0.000</td>\n",
       "      <td>0.000</td>\n",
       "    </tr>\n",
       "    <tr>\n",
       "      <th>75%</th>\n",
       "      <td>249934.000</td>\n",
       "      <td>14.000</td>\n",
       "      <td>219.000</td>\n",
       "      <td>219.000</td>\n",
       "      <td>105245.000</td>\n",
       "      <td>4.000</td>\n",
       "      <td>4.500</td>\n",
       "      <td>1.000</td>\n",
       "      <td>3.970</td>\n",
       "      <td>0.169</td>\n",
       "      <td>5.300</td>\n",
       "      <td>26.000</td>\n",
       "      <td>180.030</td>\n",
       "      <td>0.000</td>\n",
       "      <td>21055.000</td>\n",
       "      <td>3.000</td>\n",
       "      <td>43.000</td>\n",
       "      <td>2.000</td>\n",
       "      <td>0.000</td>\n",
       "      <td>1.000</td>\n",
       "      <td>1.000</td>\n",
       "      <td>1.000</td>\n",
       "      <td>0.000</td>\n",
       "      <td>0.000</td>\n",
       "      <td>0.000</td>\n",
       "      <td>0.000</td>\n",
       "    </tr>\n",
       "    <tr>\n",
       "      <th>max</th>\n",
       "      <td>332785.000</td>\n",
       "      <td>34.000</td>\n",
       "      <td>231.000</td>\n",
       "      <td>230.000</td>\n",
       "      <td>140821.000</td>\n",
       "      <td>5.000</td>\n",
       "      <td>5.000</td>\n",
       "      <td>1.000</td>\n",
       "      <td>6.980</td>\n",
       "      <td>0.609</td>\n",
       "      <td>6.210</td>\n",
       "      <td>40.000</td>\n",
       "      <td>2034.640</td>\n",
       "      <td>1.000</td>\n",
       "      <td>28416.000</td>\n",
       "      <td>8.000</td>\n",
       "      <td>189.000</td>\n",
       "      <td>9.000</td>\n",
       "      <td>9.000</td>\n",
       "      <td>8.000</td>\n",
       "      <td>1.000</td>\n",
       "      <td>1.000</td>\n",
       "      <td>1.000</td>\n",
       "      <td>1.000</td>\n",
       "      <td>1.000</td>\n",
       "      <td>6.000</td>\n",
       "    </tr>\n",
       "  </tbody>\n",
       "</table>\n",
       "</div>"
      ],
      "text/plain": [
       "          srch_id     site_id  visitor_location_country_id  prop_country_id  \\\n",
       "count 4639697.000 4639697.000                  4639697.000      4639697.000   \n",
       "mean   166505.613       9.773                      176.388          175.275   \n",
       "std     96126.246       7.519                       65.390           67.499   \n",
       "min         1.000       1.000                        1.000            1.000   \n",
       "25%     83054.000       5.000                      100.000          100.000   \n",
       "50%    166702.000       5.000                      219.000          219.000   \n",
       "75%    249934.000      14.000                      219.000          219.000   \n",
       "max    332785.000      34.000                      231.000          230.000   \n",
       "\n",
       "          prop_id  prop_starrating  prop_review_score  prop_brand_bool  \\\n",
       "count 4639697.000      4639697.000        4639697.000      4639697.000   \n",
       "mean    70136.759            3.170              3.780            0.644   \n",
       "std     40604.329            1.048              1.042            0.479   \n",
       "min         1.000            0.000              0.000            0.000   \n",
       "25%     35048.000            3.000              3.500            0.000   \n",
       "50%     69688.000            3.000              4.000            1.000   \n",
       "75%    105245.000            4.000              4.500            1.000   \n",
       "max    140821.000            5.000              5.000            1.000   \n",
       "\n",
       "       prop_location_score1  prop_location_score2  prop_log_historical_price  \\\n",
       "count           4639697.000           4639697.000                4639697.000   \n",
       "mean                  2.830                 0.117                      4.301   \n",
       "std                   1.507                 0.132                      1.838   \n",
       "min                   0.000                 0.000                      0.000   \n",
       "25%                   1.790                 0.018                      4.440   \n",
       "50%                   2.770                 0.066                      4.900   \n",
       "75%                   3.970                 0.169                      5.300   \n",
       "max                   6.980                 0.609                      6.210   \n",
       "\n",
       "         position   price_usd  promotion_flag  srch_destination_id  \\\n",
       "count 4639697.000 4639697.000     4639697.000          4639697.000   \n",
       "mean       16.947     151.299           0.214            14020.942   \n",
       "std        10.421     112.440           0.410             8105.927   \n",
       "min         1.000      14.200           0.000                2.000   \n",
       "25%         8.000      85.000           0.000             7100.000   \n",
       "50%        16.000     120.000           0.000            13539.000   \n",
       "75%        26.000     180.030           0.000            21055.000   \n",
       "max        40.000    2034.640           1.000            28416.000   \n",
       "\n",
       "       srch_length_of_stay  srch_booking_window  srch_adults_count  \\\n",
       "count          4639697.000          4639697.000        4639697.000   \n",
       "mean                 2.190               31.422              1.969   \n",
       "std                  1.517               39.184              0.856   \n",
       "min                  1.000                0.000              1.000   \n",
       "25%                  1.000                4.000              2.000   \n",
       "50%                  2.000               15.000              2.000   \n",
       "75%                  3.000               43.000              2.000   \n",
       "max                  8.000              189.000              9.000   \n",
       "\n",
       "       srch_children_count  srch_room_count  srch_saturday_night_bool  \\\n",
       "count          4639697.000      4639697.000               4639697.000   \n",
       "mean                 0.350            1.110                     0.513   \n",
       "std                  0.733            0.416                     0.500   \n",
       "min                  0.000            1.000                     0.000   \n",
       "25%                  0.000            1.000                     0.000   \n",
       "50%                  0.000            1.000                     1.000   \n",
       "75%                  0.000            1.000                     1.000   \n",
       "max                  9.000            8.000                     1.000   \n",
       "\n",
       "       random_bool  click_bool  booking_bool   comp_rate    comp_inv  \n",
       "count  4639697.000 4639697.000   4639697.000 4639697.000 4639697.000  \n",
       "mean         0.287       0.044         0.028       0.037       0.084  \n",
       "std          0.452       0.205         0.164       0.500       0.442  \n",
       "min          0.000       0.000         0.000      -1.000      -6.000  \n",
       "25%          0.000       0.000         0.000       0.000       0.000  \n",
       "50%          0.000       0.000         0.000       0.000       0.000  \n",
       "75%          1.000       0.000         0.000       0.000       0.000  \n",
       "max          1.000       1.000         1.000       1.000       6.000  "
      ]
     },
     "execution_count": 59,
     "metadata": {},
     "output_type": "execute_result"
    }
   ],
   "source": [
    "trimmed_df3.describe()"
   ]
  },
  {
   "cell_type": "code",
   "execution_count": null,
   "metadata": {},
   "outputs": [],
   "source": []
  }
 ],
 "metadata": {
  "kernelspec": {
   "display_name": "Python 3",
   "language": "python",
   "name": "python3"
  },
  "language_info": {
   "codemirror_mode": {
    "name": "ipython",
    "version": 3
   },
   "file_extension": ".py",
   "mimetype": "text/x-python",
   "name": "python",
   "nbconvert_exporter": "python",
   "pygments_lexer": "ipython3",
   "version": "3.7.6"
  }
 },
 "nbformat": 4,
 "nbformat_minor": 2
}
