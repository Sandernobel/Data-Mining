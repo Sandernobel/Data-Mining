{
 "cells": [
  {
   "cell_type": "markdown",
   "metadata": {},
   "source": [
    "# Data mining assignment 2"
   ]
  },
  {
   "cell_type": "code",
   "execution_count": 1,
   "metadata": {},
   "outputs": [],
   "source": [
    "import pandas as pd\n",
    "import numpy as np\n",
    "import seaborn as sns\n",
    "import matplotlib.pyplot as plt\n",
    "import random as r\n",
    "import lightgbm as lgb\n",
    "\n",
    "from collections import Counter\n",
    "from sklearn.model_selection import train_test_split\n",
    "\n",
    "%matplotlib inline"
   ]
  },
  {
   "cell_type": "code",
   "execution_count": 2,
   "metadata": {},
   "outputs": [],
   "source": [
    "df = pd.read_csv('training_set_vu_DM.csv')\n",
    "df_test = pd.read_csv('test_set_vu_DM.csv')"
   ]
  },
  {
   "cell_type": "code",
   "execution_count": 3,
   "metadata": {},
   "outputs": [],
   "source": [
    "train_vals = max(df.count().values)\n",
    "test_vals = max(df_test.count().values)"
   ]
  },
  {
   "cell_type": "code",
   "execution_count": 4,
   "metadata": {
    "scrolled": true
   },
   "outputs": [],
   "source": [
    "pd.set_option('display.max_columns', None)\n",
    "pd.set_option('display.max_rows', None)\n",
    "pd.set_option('display.float_format', lambda x: '%.3f' % x)"
   ]
  },
  {
   "cell_type": "markdown",
   "metadata": {},
   "source": [
    "Veel missing values, verwijder alle features met meer dan 10% NA's (kan evt nog meer NA's worden, maar dat wordt wel meer imputen)"
   ]
  },
  {
   "cell_type": "code",
   "execution_count": 5,
   "metadata": {
    "scrolled": false
   },
   "outputs": [],
   "source": [
    "null_values = df.isnull().sum()\n",
    "to_keep = null_values.index[np.asarray(null_values/train_vals < 0.90)]\n",
    "df_no_na = df[to_keep]"
   ]
  },
  {
   "cell_type": "code",
   "execution_count": 6,
   "metadata": {},
   "outputs": [],
   "source": [
    "to_keep_test = [x for x in list(to_keep) if x not in ['position', 'click_bool', 'booking_bool']]\n",
    "df_test2 = df_test[to_keep_test]"
   ]
  },
  {
   "cell_type": "code",
   "execution_count": 7,
   "metadata": {},
   "outputs": [
    {
     "name": "stderr",
     "output_type": "stream",
     "text": [
      "C:\\Users\\User\\Anaconda3\\lib\\site-packages\\ipykernel_launcher.py:25: SettingWithCopyWarning: \n",
      "A value is trying to be set on a copy of a slice from a DataFrame.\n",
      "Try using .loc[row_indexer,col_indexer] = value instead\n",
      "\n",
      "See the caveats in the documentation: http://pandas.pydata.org/pandas-docs/stable/indexing.html#indexing-view-versus-copy\n",
      "C:\\Users\\User\\Anaconda3\\lib\\site-packages\\ipykernel_launcher.py:26: SettingWithCopyWarning: \n",
      "A value is trying to be set on a copy of a slice from a DataFrame.\n",
      "Try using .loc[row_indexer,col_indexer] = value instead\n",
      "\n",
      "See the caveats in the documentation: http://pandas.pydata.org/pandas-docs/stable/indexing.html#indexing-view-versus-copy\n",
      "C:\\Users\\User\\Anaconda3\\lib\\site-packages\\ipykernel_launcher.py:28: SettingWithCopyWarning: \n",
      "A value is trying to be set on a copy of a slice from a DataFrame.\n",
      "Try using .loc[row_indexer,col_indexer] = value instead\n",
      "\n",
      "See the caveats in the documentation: http://pandas.pydata.org/pandas-docs/stable/indexing.html#indexing-view-versus-copy\n",
      "C:\\Users\\User\\Anaconda3\\lib\\site-packages\\ipykernel_launcher.py:29: SettingWithCopyWarning: \n",
      "A value is trying to be set on a copy of a slice from a DataFrame.\n",
      "Try using .loc[row_indexer,col_indexer] = value instead\n",
      "\n",
      "See the caveats in the documentation: http://pandas.pydata.org/pandas-docs/stable/indexing.html#indexing-view-versus-copy\n"
     ]
    },
    {
     "data": {
      "text/plain": [
       "srch_id                              0\n",
       "date_time                            0\n",
       "site_id                              0\n",
       "visitor_location_country_id          0\n",
       "prop_country_id                      0\n",
       "prop_id                              0\n",
       "prop_starrating                      0\n",
       "prop_review_score                 7266\n",
       "prop_brand_bool                      0\n",
       "prop_location_score1                 0\n",
       "prop_location_score2           1088032\n",
       "prop_log_historical_price            0\n",
       "price_usd                            0\n",
       "promotion_flag                       0\n",
       "srch_destination_id                  0\n",
       "srch_length_of_stay                  0\n",
       "srch_booking_window                  0\n",
       "srch_adults_count                    0\n",
       "srch_children_count                  0\n",
       "srch_room_count                      0\n",
       "srch_saturday_night_bool             0\n",
       "orig_destination_distance      1608679\n",
       "random_bool                          0\n",
       "comp_rate                            0\n",
       "comp_inv                             0\n",
       "dtype: int64"
      ]
     },
     "execution_count": 7,
     "metadata": {},
     "output_type": "execute_result"
    }
   ],
   "source": [
    "comp_rate = pd.Series(np.zeros(train_vals,))\n",
    "comp_test_rate = pd.Series(np.zeros(test_vals,))\n",
    "for x in range(1,9):\n",
    "    temp_rate = np.where(df['comp'+str(x)+'_rate'].isnull(), 0, df['comp'+str(x)+'_rate'])\n",
    "    comp_rate += temp_rate\n",
    "    \n",
    "    temp_test_rate = np.where(df_test['comp'+str(x)+'_rate'].isnull(), 0, df_test['comp'+str(x)+'_rate'])\n",
    "    comp_test_rate += temp_test_rate\n",
    "comp_rate = np.where(comp_rate < -1, -1, comp_rate)\n",
    "comp_rate = pd.Series(np.where(comp_rate > 1, 1, comp_rate))\n",
    "\n",
    "comp_test_rate = np.where(comp_test_rate < -1, -1, comp_test_rate)\n",
    "comp_test_rate = pd.Series(np.where(comp_test_rate > 1, 1, comp_test_rate))\n",
    "\n",
    "comp_inv = pd.Series(np.zeros(train_vals,))\n",
    "comp_test_inv = pd.Series(np.zeros(test_vals,))\n",
    "for x in range(1,9):\n",
    "    temp_inv = np.where(df['comp'+str(x)+'_inv'].isnull(), 0, df['comp'+str(x)+'_inv'])\n",
    "    comp_inv += temp_inv\n",
    "    \n",
    "    temp_test_inv = np.where(df_test['comp'+str(x)+'_inv'].isnull(), 0, df_test['comp'+str(x)+'_inv'])\n",
    "    comp_test_inv += temp_test_inv\n",
    "    \n",
    "\n",
    "df_no_na['comp_rate'] = comp_rate\n",
    "df_no_na['comp_inv'] = comp_inv\n",
    "\n",
    "df_test2['comp_rate'] = comp_test_rate\n",
    "df_test2['comp_inv'] = comp_test_inv\n",
    "df_no_na2 = df_no_na.drop(['comp2_rate', 'comp3_rate', 'comp5_rate', 'comp8_rate',\n",
    "                           'comp2_inv', 'comp3_inv', 'comp5_inv', 'comp8_inv',\n",
    "                          'comp5_rate_percent_diff', 'comp8_rate_percent_diff', 'comp2_rate_percent_diff'], axis=1)\n",
    "df_test3 = df_test2.drop(['comp2_rate', 'comp3_rate', 'comp5_rate', 'comp8_rate',\n",
    "                           'comp2_inv', 'comp3_inv', 'comp5_inv', 'comp8_inv',\n",
    "                          'comp5_rate_percent_diff', 'comp8_rate_percent_diff', 'comp2_rate_percent_diff'], axis=1)\n",
    "df_test3.isnull().sum()"
   ]
  },
  {
   "cell_type": "markdown",
   "metadata": {},
   "source": [
    "Prop_review_score en Prop_location_score2 hebben nog NA's dus die moeten we imputen. Heb ze nu allebei ge-impute aan de hand van hun distributie, maar we kunnen misschien ook nog prop_location_score2 imputen adhv de andere location score maar weet niet echt goed hoe"
   ]
  },
  {
   "cell_type": "code",
   "execution_count": 8,
   "metadata": {},
   "outputs": [],
   "source": [
    "probs = df_no_na2['prop_review_score'].value_counts(normalize=True)\n",
    "isnull = df_no_na2['prop_review_score'].isnull()\n",
    "np.random.seed(15)\n",
    "df_no_na2.loc[isnull, 'prop_review_score'] = np.random.choice(probs.index, size=len(df[isnull]), p=probs.values)\n",
    "\n",
    "probs = df_test3['prop_review_score'].value_counts(normalize=True)\n",
    "isnull = df_test3['prop_review_score'].isnull()\n",
    "np.random.seed(15)\n",
    "df_test3.loc[isnull, 'prop_review_score'] = np.random.choice(probs.index, size=len(df_test[isnull]), p=probs.values)"
   ]
  },
  {
   "cell_type": "code",
   "execution_count": 9,
   "metadata": {
    "scrolled": true
   },
   "outputs": [],
   "source": [
    "df_no_na2['prop_location_score2'] = df['prop_location_score2']\n",
    "\n",
    "probs = df_no_na2['prop_location_score2'].value_counts(normalize=True)\n",
    "isnull = df_no_na2['prop_location_score2'].isnull()\n",
    "np.random.seed(15)\n",
    "df_no_na2.loc[isnull, 'prop_location_score2'] = np.random.choice(probs.index, size=len(df[isnull]), p=probs.values)\n",
    "\n",
    "df_test3['prop_location_score2'] = df_test['prop_location_score2']\n",
    "\n",
    "probs = df_test3['prop_location_score2'].value_counts(normalize=True)\n",
    "isnull = df_test3['prop_location_score2'].isnull()\n",
    "np.random.seed(15)\n",
    "df_test3.loc[isnull, 'prop_location_score2'] = np.random.choice(probs.index, size=len(df_test[isnull]), p=probs.values)"
   ]
  },
  {
   "cell_type": "code",
   "execution_count": 10,
   "metadata": {
    "scrolled": true
   },
   "outputs": [],
   "source": [
    "df_no_na2 = df_no_na2.drop(['orig_destination_distance'], axis=1)\n",
    "df_test3 = df_test3.drop(['orig_destination_distance'], axis=1)"
   ]
  },
  {
   "cell_type": "code",
   "execution_count": 11,
   "metadata": {},
   "outputs": [],
   "source": [
    "df_no_na2 = df_no_na2.drop(['date_time'], axis=1)\n",
    "df_test3 = df_test3.drop(['date_time'], axis=1)"
   ]
  },
  {
   "cell_type": "code",
   "execution_count": 12,
   "metadata": {},
   "outputs": [],
   "source": [
    "df_no_na2['relevance'] = np.asarray(4*df_no_na2['booking_bool'] + df_no_na2['click_bool'])"
   ]
  },
  {
   "cell_type": "code",
   "execution_count": 13,
   "metadata": {},
   "outputs": [],
   "source": [
    "r.seed(15)\n",
    "# Train and validation data splitten op basis van search id\n",
    "train_ids = np.asarray(r.sample(list(df_no_na2['srch_id'].unique()), round(0.2*df_no_na2['srch_id'].unique().size)))\n",
    "val_ids = np.setdiff1d(df_no_na2['srch_id'].unique(), train_ids)"
   ]
  },
  {
   "cell_type": "code",
   "execution_count": 14,
   "metadata": {},
   "outputs": [],
   "source": [
    "train_data = df_no_na2.loc[df_no_na2['srch_id'].isin(train_ids)]\n",
    "val_data = df_no_na2.loc[df_no_na2['srch_id'].isin(val_ids)]"
   ]
  },
  {
   "cell_type": "code",
   "execution_count": 15,
   "metadata": {},
   "outputs": [],
   "source": [
    "# train_data.head()"
   ]
  },
  {
   "cell_type": "code",
   "execution_count": 16,
   "metadata": {},
   "outputs": [],
   "source": [
    "y_train = train_data['relevance']\n",
    "X_train = train_data.drop(['relevance', 'click_bool', 'booking_bool', 'position'], axis=1)\n",
    "y_val = val_data['relevance']\n",
    "X_val = val_data.drop(['relevance', 'click_bool', 'booking_bool', 'position'], axis=1)\n"
   ]
  },
  {
   "cell_type": "code",
   "execution_count": 17,
   "metadata": {},
   "outputs": [],
   "source": [
    "train_queries = list(Counter(np.asarray(X_train['srch_id'])).values())\n",
    "val_queries = list(Counter(np.asarray(X_val['srch_id'])).values())"
   ]
  },
  {
   "cell_type": "code",
   "execution_count": 18,
   "metadata": {},
   "outputs": [],
   "source": [
    "gbm = lgb.LGBMRanker()"
   ]
  },
  {
   "cell_type": "code",
   "execution_count": 19,
   "metadata": {},
   "outputs": [
    {
     "name": "stdout",
     "output_type": "stream",
     "text": [
      "[1]\tvalid_0's ndcg@5: 0.25029\tvalid_0's ndcg@10: 0.321714\tvalid_0's ndcg@25: 0.398659\n",
      "Training until validation scores don't improve for 50 rounds\n",
      "[2]\tvalid_0's ndcg@5: 0.277225\tvalid_0's ndcg@10: 0.349523\tvalid_0's ndcg@25: 0.422296\n",
      "[3]\tvalid_0's ndcg@5: 0.292673\tvalid_0's ndcg@10: 0.363824\tvalid_0's ndcg@25: 0.433803\n",
      "[4]\tvalid_0's ndcg@5: 0.30209\tvalid_0's ndcg@10: 0.373175\tvalid_0's ndcg@25: 0.441523\n",
      "[5]\tvalid_0's ndcg@5: 0.310379\tvalid_0's ndcg@10: 0.380915\tvalid_0's ndcg@25: 0.447858\n",
      "[6]\tvalid_0's ndcg@5: 0.315876\tvalid_0's ndcg@10: 0.385726\tvalid_0's ndcg@25: 0.451909\n",
      "[7]\tvalid_0's ndcg@5: 0.317493\tvalid_0's ndcg@10: 0.387636\tvalid_0's ndcg@25: 0.453193\n",
      "[8]\tvalid_0's ndcg@5: 0.319495\tvalid_0's ndcg@10: 0.389502\tvalid_0's ndcg@25: 0.454665\n",
      "[9]\tvalid_0's ndcg@5: 0.321429\tvalid_0's ndcg@10: 0.391283\tvalid_0's ndcg@25: 0.456054\n",
      "[10]\tvalid_0's ndcg@5: 0.322676\tvalid_0's ndcg@10: 0.392495\tvalid_0's ndcg@25: 0.45697\n",
      "[11]\tvalid_0's ndcg@5: 0.324484\tvalid_0's ndcg@10: 0.394219\tvalid_0's ndcg@25: 0.458339\n",
      "[12]\tvalid_0's ndcg@5: 0.325879\tvalid_0's ndcg@10: 0.395707\tvalid_0's ndcg@25: 0.459414\n",
      "[13]\tvalid_0's ndcg@5: 0.326\tvalid_0's ndcg@10: 0.39583\tvalid_0's ndcg@25: 0.459474\n",
      "[14]\tvalid_0's ndcg@5: 0.326643\tvalid_0's ndcg@10: 0.396149\tvalid_0's ndcg@25: 0.459828\n",
      "[15]\tvalid_0's ndcg@5: 0.327249\tvalid_0's ndcg@10: 0.396648\tvalid_0's ndcg@25: 0.460284\n",
      "[16]\tvalid_0's ndcg@5: 0.328001\tvalid_0's ndcg@10: 0.397438\tvalid_0's ndcg@25: 0.461006\n",
      "[17]\tvalid_0's ndcg@5: 0.328234\tvalid_0's ndcg@10: 0.397666\tvalid_0's ndcg@25: 0.461149\n",
      "[18]\tvalid_0's ndcg@5: 0.328476\tvalid_0's ndcg@10: 0.397814\tvalid_0's ndcg@25: 0.461229\n",
      "[19]\tvalid_0's ndcg@5: 0.329913\tvalid_0's ndcg@10: 0.399119\tvalid_0's ndcg@25: 0.462211\n",
      "[20]\tvalid_0's ndcg@5: 0.330045\tvalid_0's ndcg@10: 0.399272\tvalid_0's ndcg@25: 0.462374\n",
      "[21]\tvalid_0's ndcg@5: 0.33067\tvalid_0's ndcg@10: 0.399919\tvalid_0's ndcg@25: 0.462863\n",
      "[22]\tvalid_0's ndcg@5: 0.331229\tvalid_0's ndcg@10: 0.40045\tvalid_0's ndcg@25: 0.463344\n",
      "[23]\tvalid_0's ndcg@5: 0.331331\tvalid_0's ndcg@10: 0.400442\tvalid_0's ndcg@25: 0.463356\n",
      "[24]\tvalid_0's ndcg@5: 0.331546\tvalid_0's ndcg@10: 0.400799\tvalid_0's ndcg@25: 0.46355\n",
      "[25]\tvalid_0's ndcg@5: 0.332058\tvalid_0's ndcg@10: 0.401293\tvalid_0's ndcg@25: 0.463854\n",
      "[26]\tvalid_0's ndcg@5: 0.332519\tvalid_0's ndcg@10: 0.401631\tvalid_0's ndcg@25: 0.464115\n",
      "[27]\tvalid_0's ndcg@5: 0.332893\tvalid_0's ndcg@10: 0.402182\tvalid_0's ndcg@25: 0.464493\n",
      "[28]\tvalid_0's ndcg@5: 0.333248\tvalid_0's ndcg@10: 0.402491\tvalid_0's ndcg@25: 0.464809\n",
      "[29]\tvalid_0's ndcg@5: 0.333269\tvalid_0's ndcg@10: 0.402467\tvalid_0's ndcg@25: 0.464815\n",
      "[30]\tvalid_0's ndcg@5: 0.333583\tvalid_0's ndcg@10: 0.402791\tvalid_0's ndcg@25: 0.464994\n",
      "[31]\tvalid_0's ndcg@5: 0.334031\tvalid_0's ndcg@10: 0.402981\tvalid_0's ndcg@25: 0.465221\n",
      "[32]\tvalid_0's ndcg@5: 0.334006\tvalid_0's ndcg@10: 0.403011\tvalid_0's ndcg@25: 0.465241\n",
      "[33]\tvalid_0's ndcg@5: 0.334202\tvalid_0's ndcg@10: 0.403173\tvalid_0's ndcg@25: 0.465286\n",
      "[34]\tvalid_0's ndcg@5: 0.33453\tvalid_0's ndcg@10: 0.403511\tvalid_0's ndcg@25: 0.465496\n",
      "[35]\tvalid_0's ndcg@5: 0.334832\tvalid_0's ndcg@10: 0.403814\tvalid_0's ndcg@25: 0.465759\n",
      "[36]\tvalid_0's ndcg@5: 0.335052\tvalid_0's ndcg@10: 0.404106\tvalid_0's ndcg@25: 0.465977\n",
      "[37]\tvalid_0's ndcg@5: 0.335279\tvalid_0's ndcg@10: 0.404399\tvalid_0's ndcg@25: 0.466264\n",
      "[38]\tvalid_0's ndcg@5: 0.335311\tvalid_0's ndcg@10: 0.404253\tvalid_0's ndcg@25: 0.466212\n",
      "[39]\tvalid_0's ndcg@5: 0.33529\tvalid_0's ndcg@10: 0.404369\tvalid_0's ndcg@25: 0.466258\n",
      "[40]\tvalid_0's ndcg@5: 0.335664\tvalid_0's ndcg@10: 0.404598\tvalid_0's ndcg@25: 0.466458\n",
      "[41]\tvalid_0's ndcg@5: 0.335703\tvalid_0's ndcg@10: 0.404623\tvalid_0's ndcg@25: 0.466448\n",
      "[42]\tvalid_0's ndcg@5: 0.335761\tvalid_0's ndcg@10: 0.404766\tvalid_0's ndcg@25: 0.466615\n",
      "[43]\tvalid_0's ndcg@5: 0.33596\tvalid_0's ndcg@10: 0.404867\tvalid_0's ndcg@25: 0.466676\n",
      "[44]\tvalid_0's ndcg@5: 0.336008\tvalid_0's ndcg@10: 0.404993\tvalid_0's ndcg@25: 0.466743\n",
      "[45]\tvalid_0's ndcg@5: 0.336294\tvalid_0's ndcg@10: 0.405269\tvalid_0's ndcg@25: 0.466933\n",
      "[46]\tvalid_0's ndcg@5: 0.336259\tvalid_0's ndcg@10: 0.405222\tvalid_0's ndcg@25: 0.467012\n",
      "[47]\tvalid_0's ndcg@5: 0.336293\tvalid_0's ndcg@10: 0.405269\tvalid_0's ndcg@25: 0.467008\n",
      "[48]\tvalid_0's ndcg@5: 0.33644\tvalid_0's ndcg@10: 0.405388\tvalid_0's ndcg@25: 0.46712\n",
      "[49]\tvalid_0's ndcg@5: 0.336412\tvalid_0's ndcg@10: 0.405552\tvalid_0's ndcg@25: 0.467117\n",
      "[50]\tvalid_0's ndcg@5: 0.336759\tvalid_0's ndcg@10: 0.405863\tvalid_0's ndcg@25: 0.467448\n",
      "[51]\tvalid_0's ndcg@5: 0.337124\tvalid_0's ndcg@10: 0.406179\tvalid_0's ndcg@25: 0.467725\n",
      "[52]\tvalid_0's ndcg@5: 0.337374\tvalid_0's ndcg@10: 0.406411\tvalid_0's ndcg@25: 0.467866\n",
      "[53]\tvalid_0's ndcg@5: 0.337345\tvalid_0's ndcg@10: 0.406436\tvalid_0's ndcg@25: 0.467886\n",
      "[54]\tvalid_0's ndcg@5: 0.337439\tvalid_0's ndcg@10: 0.406433\tvalid_0's ndcg@25: 0.467872\n",
      "[55]\tvalid_0's ndcg@5: 0.337726\tvalid_0's ndcg@10: 0.406613\tvalid_0's ndcg@25: 0.46805\n",
      "[56]\tvalid_0's ndcg@5: 0.337816\tvalid_0's ndcg@10: 0.406724\tvalid_0's ndcg@25: 0.468081\n",
      "[57]\tvalid_0's ndcg@5: 0.337756\tvalid_0's ndcg@10: 0.406555\tvalid_0's ndcg@25: 0.467983\n",
      "[58]\tvalid_0's ndcg@5: 0.337648\tvalid_0's ndcg@10: 0.406519\tvalid_0's ndcg@25: 0.467996\n",
      "[59]\tvalid_0's ndcg@5: 0.3376\tvalid_0's ndcg@10: 0.406486\tvalid_0's ndcg@25: 0.468036\n",
      "[60]\tvalid_0's ndcg@5: 0.337927\tvalid_0's ndcg@10: 0.406741\tvalid_0's ndcg@25: 0.468276\n",
      "[61]\tvalid_0's ndcg@5: 0.338184\tvalid_0's ndcg@10: 0.406994\tvalid_0's ndcg@25: 0.46841\n",
      "[62]\tvalid_0's ndcg@5: 0.338163\tvalid_0's ndcg@10: 0.406832\tvalid_0's ndcg@25: 0.468274\n",
      "[63]\tvalid_0's ndcg@5: 0.338078\tvalid_0's ndcg@10: 0.406963\tvalid_0's ndcg@25: 0.468305\n",
      "[64]\tvalid_0's ndcg@5: 0.338144\tvalid_0's ndcg@10: 0.406975\tvalid_0's ndcg@25: 0.468378\n",
      "[65]\tvalid_0's ndcg@5: 0.337982\tvalid_0's ndcg@10: 0.406898\tvalid_0's ndcg@25: 0.46837\n",
      "[66]\tvalid_0's ndcg@5: 0.337907\tvalid_0's ndcg@10: 0.406769\tvalid_0's ndcg@25: 0.468312\n",
      "[67]\tvalid_0's ndcg@5: 0.337995\tvalid_0's ndcg@10: 0.406777\tvalid_0's ndcg@25: 0.468339\n",
      "[68]\tvalid_0's ndcg@5: 0.338073\tvalid_0's ndcg@10: 0.406909\tvalid_0's ndcg@25: 0.46837\n",
      "[69]\tvalid_0's ndcg@5: 0.338166\tvalid_0's ndcg@10: 0.406997\tvalid_0's ndcg@25: 0.468492\n",
      "[70]\tvalid_0's ndcg@5: 0.338152\tvalid_0's ndcg@10: 0.407037\tvalid_0's ndcg@25: 0.468551\n",
      "[71]\tvalid_0's ndcg@5: 0.3384\tvalid_0's ndcg@10: 0.407193\tvalid_0's ndcg@25: 0.468685\n",
      "[72]\tvalid_0's ndcg@5: 0.338507\tvalid_0's ndcg@10: 0.407298\tvalid_0's ndcg@25: 0.468738\n",
      "[73]\tvalid_0's ndcg@5: 0.338465\tvalid_0's ndcg@10: 0.407309\tvalid_0's ndcg@25: 0.468795\n",
      "[74]\tvalid_0's ndcg@5: 0.338517\tvalid_0's ndcg@10: 0.407304\tvalid_0's ndcg@25: 0.468836\n",
      "[75]\tvalid_0's ndcg@5: 0.338568\tvalid_0's ndcg@10: 0.40734\tvalid_0's ndcg@25: 0.468856\n",
      "[76]\tvalid_0's ndcg@5: 0.338549\tvalid_0's ndcg@10: 0.407342\tvalid_0's ndcg@25: 0.468877\n",
      "[77]\tvalid_0's ndcg@5: 0.338536\tvalid_0's ndcg@10: 0.4073\tvalid_0's ndcg@25: 0.468891\n",
      "[78]\tvalid_0's ndcg@5: 0.338502\tvalid_0's ndcg@10: 0.407245\tvalid_0's ndcg@25: 0.468856\n",
      "[79]\tvalid_0's ndcg@5: 0.338555\tvalid_0's ndcg@10: 0.40738\tvalid_0's ndcg@25: 0.468909\n",
      "[80]\tvalid_0's ndcg@5: 0.338493\tvalid_0's ndcg@10: 0.407338\tvalid_0's ndcg@25: 0.468878\n",
      "[81]\tvalid_0's ndcg@5: 0.338392\tvalid_0's ndcg@10: 0.407267\tvalid_0's ndcg@25: 0.468834\n",
      "[82]\tvalid_0's ndcg@5: 0.338378\tvalid_0's ndcg@10: 0.407212\tvalid_0's ndcg@25: 0.468753\n",
      "[83]\tvalid_0's ndcg@5: 0.338436\tvalid_0's ndcg@10: 0.407252\tvalid_0's ndcg@25: 0.468787\n",
      "[84]\tvalid_0's ndcg@5: 0.338632\tvalid_0's ndcg@10: 0.407482\tvalid_0's ndcg@25: 0.468909\n",
      "[85]\tvalid_0's ndcg@5: 0.338668\tvalid_0's ndcg@10: 0.407554\tvalid_0's ndcg@25: 0.468984\n",
      "[86]\tvalid_0's ndcg@5: 0.338694\tvalid_0's ndcg@10: 0.407552\tvalid_0's ndcg@25: 0.468979\n",
      "[87]\tvalid_0's ndcg@5: 0.338773\tvalid_0's ndcg@10: 0.407581\tvalid_0's ndcg@25: 0.469028\n",
      "[88]\tvalid_0's ndcg@5: 0.338921\tvalid_0's ndcg@10: 0.407607\tvalid_0's ndcg@25: 0.469111\n",
      "[89]\tvalid_0's ndcg@5: 0.338992\tvalid_0's ndcg@10: 0.407795\tvalid_0's ndcg@25: 0.46923\n",
      "[90]\tvalid_0's ndcg@5: 0.339082\tvalid_0's ndcg@10: 0.407761\tvalid_0's ndcg@25: 0.469267\n",
      "[91]\tvalid_0's ndcg@5: 0.339069\tvalid_0's ndcg@10: 0.407814\tvalid_0's ndcg@25: 0.469304\n",
      "[92]\tvalid_0's ndcg@5: 0.33904\tvalid_0's ndcg@10: 0.407796\tvalid_0's ndcg@25: 0.469296\n",
      "[93]\tvalid_0's ndcg@5: 0.339127\tvalid_0's ndcg@10: 0.407918\tvalid_0's ndcg@25: 0.469372\n"
     ]
    },
    {
     "name": "stdout",
     "output_type": "stream",
     "text": [
      "[94]\tvalid_0's ndcg@5: 0.339088\tvalid_0's ndcg@10: 0.407944\tvalid_0's ndcg@25: 0.469397\n",
      "[95]\tvalid_0's ndcg@5: 0.339231\tvalid_0's ndcg@10: 0.40799\tvalid_0's ndcg@25: 0.469459\n",
      "[96]\tvalid_0's ndcg@5: 0.33921\tvalid_0's ndcg@10: 0.407947\tvalid_0's ndcg@25: 0.469471\n",
      "[97]\tvalid_0's ndcg@5: 0.339068\tvalid_0's ndcg@10: 0.407799\tvalid_0's ndcg@25: 0.469353\n",
      "[98]\tvalid_0's ndcg@5: 0.338943\tvalid_0's ndcg@10: 0.407713\tvalid_0's ndcg@25: 0.469261\n",
      "[99]\tvalid_0's ndcg@5: 0.338945\tvalid_0's ndcg@10: 0.407854\tvalid_0's ndcg@25: 0.469368\n",
      "[100]\tvalid_0's ndcg@5: 0.339057\tvalid_0's ndcg@10: 0.40799\tvalid_0's ndcg@25: 0.469449\n",
      "Did not meet early stopping. Best iteration is:\n",
      "[95]\tvalid_0's ndcg@5: 0.339231\tvalid_0's ndcg@10: 0.40799\tvalid_0's ndcg@25: 0.469459\n"
     ]
    },
    {
     "data": {
      "text/plain": [
       "LGBMRanker(boosting_type='gbdt', class_weight=None, colsample_bytree=1.0,\n",
       "      importance_type='split', learning_rate=0.1, max_depth=-1,\n",
       "      min_child_samples=20, min_child_weight=0.001, min_split_gain=0.0,\n",
       "      n_estimators=100, n_jobs=-1, num_leaves=31, objective=None,\n",
       "      random_state=None, reg_alpha=0.0, reg_lambda=0.0, silent=True,\n",
       "      subsample=1.0, subsample_for_bin=200000, subsample_freq=0)"
      ]
     },
     "execution_count": 19,
     "metadata": {},
     "output_type": "execute_result"
    }
   ],
   "source": [
    "gbm.fit(X_train, y_train, group=train_queries, \n",
    "        eval_set=[(X_val, y_val)], eval_group = [val_queries], \n",
    "        eval_at=[5, 10, 25], early_stopping_rounds=50)"
   ]
  },
  {
   "cell_type": "code",
   "execution_count": 21,
   "metadata": {},
   "outputs": [],
   "source": [
    "test_pred = gbm.predict(df_test3)"
   ]
  },
  {
   "cell_type": "code",
   "execution_count": 30,
   "metadata": {},
   "outputs": [],
   "source": [
    "df_test3['relevance'] = test_pred"
   ]
  },
  {
   "cell_type": "code",
   "execution_count": 36,
   "metadata": {},
   "outputs": [],
   "source": [
    "df_test3.sort_values(by=['srch_id', 'relevance'], ascending=[True, False], inplace=True)"
   ]
  },
  {
   "cell_type": "code",
   "execution_count": 37,
   "metadata": {},
   "outputs": [
    {
     "data": {
      "text/html": [
       "<div>\n",
       "<style scoped>\n",
       "    .dataframe tbody tr th:only-of-type {\n",
       "        vertical-align: middle;\n",
       "    }\n",
       "\n",
       "    .dataframe tbody tr th {\n",
       "        vertical-align: top;\n",
       "    }\n",
       "\n",
       "    .dataframe thead th {\n",
       "        text-align: right;\n",
       "    }\n",
       "</style>\n",
       "<table border=\"1\" class=\"dataframe\">\n",
       "  <thead>\n",
       "    <tr style=\"text-align: right;\">\n",
       "      <th></th>\n",
       "      <th>srch_id</th>\n",
       "      <th>site_id</th>\n",
       "      <th>visitor_location_country_id</th>\n",
       "      <th>prop_country_id</th>\n",
       "      <th>prop_id</th>\n",
       "      <th>prop_starrating</th>\n",
       "      <th>prop_review_score</th>\n",
       "      <th>prop_brand_bool</th>\n",
       "      <th>prop_location_score1</th>\n",
       "      <th>prop_location_score2</th>\n",
       "      <th>prop_log_historical_price</th>\n",
       "      <th>price_usd</th>\n",
       "      <th>promotion_flag</th>\n",
       "      <th>srch_destination_id</th>\n",
       "      <th>srch_length_of_stay</th>\n",
       "      <th>srch_booking_window</th>\n",
       "      <th>srch_adults_count</th>\n",
       "      <th>srch_children_count</th>\n",
       "      <th>srch_room_count</th>\n",
       "      <th>srch_saturday_night_bool</th>\n",
       "      <th>random_bool</th>\n",
       "      <th>comp_rate</th>\n",
       "      <th>comp_inv</th>\n",
       "      <th>relevance</th>\n",
       "    </tr>\n",
       "  </thead>\n",
       "  <tbody>\n",
       "    <tr>\n",
       "      <th>23</th>\n",
       "      <td>1</td>\n",
       "      <td>24</td>\n",
       "      <td>216</td>\n",
       "      <td>219</td>\n",
       "      <td>99484</td>\n",
       "      <td>3</td>\n",
       "      <td>4.000</td>\n",
       "      <td>1</td>\n",
       "      <td>2.400</td>\n",
       "      <td>0.218</td>\n",
       "      <td>4.540</td>\n",
       "      <td>69.000</td>\n",
       "      <td>1</td>\n",
       "      <td>19222</td>\n",
       "      <td>1</td>\n",
       "      <td>10</td>\n",
       "      <td>2</td>\n",
       "      <td>0</td>\n",
       "      <td>1</td>\n",
       "      <td>0</td>\n",
       "      <td>0</td>\n",
       "      <td>1.000</td>\n",
       "      <td>0.000</td>\n",
       "      <td>1.035</td>\n",
       "    </tr>\n",
       "    <tr>\n",
       "      <th>12</th>\n",
       "      <td>1</td>\n",
       "      <td>24</td>\n",
       "      <td>216</td>\n",
       "      <td>219</td>\n",
       "      <td>61934</td>\n",
       "      <td>3</td>\n",
       "      <td>4.500</td>\n",
       "      <td>1</td>\n",
       "      <td>2.890</td>\n",
       "      <td>0.242</td>\n",
       "      <td>4.690</td>\n",
       "      <td>88.880</td>\n",
       "      <td>1</td>\n",
       "      <td>19222</td>\n",
       "      <td>1</td>\n",
       "      <td>10</td>\n",
       "      <td>2</td>\n",
       "      <td>0</td>\n",
       "      <td>1</td>\n",
       "      <td>0</td>\n",
       "      <td>0</td>\n",
       "      <td>0.000</td>\n",
       "      <td>0.000</td>\n",
       "      <td>0.875</td>\n",
       "    </tr>\n",
       "    <tr>\n",
       "      <th>9</th>\n",
       "      <td>1</td>\n",
       "      <td>24</td>\n",
       "      <td>216</td>\n",
       "      <td>219</td>\n",
       "      <td>54937</td>\n",
       "      <td>3</td>\n",
       "      <td>4.000</td>\n",
       "      <td>1</td>\n",
       "      <td>2.080</td>\n",
       "      <td>0.165</td>\n",
       "      <td>4.750</td>\n",
       "      <td>83.300</td>\n",
       "      <td>1</td>\n",
       "      <td>19222</td>\n",
       "      <td>1</td>\n",
       "      <td>10</td>\n",
       "      <td>2</td>\n",
       "      <td>0</td>\n",
       "      <td>1</td>\n",
       "      <td>0</td>\n",
       "      <td>0</td>\n",
       "      <td>0.000</td>\n",
       "      <td>0.000</td>\n",
       "      <td>0.842</td>\n",
       "    </tr>\n",
       "    <tr>\n",
       "      <th>4</th>\n",
       "      <td>1</td>\n",
       "      <td>24</td>\n",
       "      <td>216</td>\n",
       "      <td>219</td>\n",
       "      <td>24194</td>\n",
       "      <td>3</td>\n",
       "      <td>4.500</td>\n",
       "      <td>1</td>\n",
       "      <td>2.940</td>\n",
       "      <td>0.209</td>\n",
       "      <td>4.720</td>\n",
       "      <td>79.000</td>\n",
       "      <td>0</td>\n",
       "      <td>19222</td>\n",
       "      <td>1</td>\n",
       "      <td>10</td>\n",
       "      <td>2</td>\n",
       "      <td>0</td>\n",
       "      <td>1</td>\n",
       "      <td>0</td>\n",
       "      <td>0</td>\n",
       "      <td>0.000</td>\n",
       "      <td>0.000</td>\n",
       "      <td>0.520</td>\n",
       "    </tr>\n",
       "    <tr>\n",
       "      <th>6</th>\n",
       "      <td>1</td>\n",
       "      <td>24</td>\n",
       "      <td>216</td>\n",
       "      <td>219</td>\n",
       "      <td>34263</td>\n",
       "      <td>3</td>\n",
       "      <td>4.500</td>\n",
       "      <td>1</td>\n",
       "      <td>3.090</td>\n",
       "      <td>0.130</td>\n",
       "      <td>4.630</td>\n",
       "      <td>79.000</td>\n",
       "      <td>0</td>\n",
       "      <td>19222</td>\n",
       "      <td>1</td>\n",
       "      <td>10</td>\n",
       "      <td>2</td>\n",
       "      <td>0</td>\n",
       "      <td>1</td>\n",
       "      <td>0</td>\n",
       "      <td>0</td>\n",
       "      <td>0.000</td>\n",
       "      <td>0.000</td>\n",
       "      <td>0.362</td>\n",
       "    </tr>\n",
       "  </tbody>\n",
       "</table>\n",
       "</div>"
      ],
      "text/plain": [
       "    srch_id  site_id  visitor_location_country_id  prop_country_id  prop_id  \\\n",
       "23        1       24                          216              219    99484   \n",
       "12        1       24                          216              219    61934   \n",
       "9         1       24                          216              219    54937   \n",
       "4         1       24                          216              219    24194   \n",
       "6         1       24                          216              219    34263   \n",
       "\n",
       "    prop_starrating  prop_review_score  prop_brand_bool  prop_location_score1  \\\n",
       "23                3              4.000                1                 2.400   \n",
       "12                3              4.500                1                 2.890   \n",
       "9                 3              4.000                1                 2.080   \n",
       "4                 3              4.500                1                 2.940   \n",
       "6                 3              4.500                1                 3.090   \n",
       "\n",
       "    prop_location_score2  prop_log_historical_price  price_usd  \\\n",
       "23                 0.218                      4.540     69.000   \n",
       "12                 0.242                      4.690     88.880   \n",
       "9                  0.165                      4.750     83.300   \n",
       "4                  0.209                      4.720     79.000   \n",
       "6                  0.130                      4.630     79.000   \n",
       "\n",
       "    promotion_flag  srch_destination_id  srch_length_of_stay  \\\n",
       "23               1                19222                    1   \n",
       "12               1                19222                    1   \n",
       "9                1                19222                    1   \n",
       "4                0                19222                    1   \n",
       "6                0                19222                    1   \n",
       "\n",
       "    srch_booking_window  srch_adults_count  srch_children_count  \\\n",
       "23                   10                  2                    0   \n",
       "12                   10                  2                    0   \n",
       "9                    10                  2                    0   \n",
       "4                    10                  2                    0   \n",
       "6                    10                  2                    0   \n",
       "\n",
       "    srch_room_count  srch_saturday_night_bool  random_bool  comp_rate  \\\n",
       "23                1                         0            0      1.000   \n",
       "12                1                         0            0      0.000   \n",
       "9                 1                         0            0      0.000   \n",
       "4                 1                         0            0      0.000   \n",
       "6                 1                         0            0      0.000   \n",
       "\n",
       "    comp_inv  relevance  \n",
       "23     0.000      1.035  \n",
       "12     0.000      0.875  \n",
       "9      0.000      0.842  \n",
       "4      0.000      0.520  \n",
       "6      0.000      0.362  "
      ]
     },
     "execution_count": 37,
     "metadata": {},
     "output_type": "execute_result"
    }
   ],
   "source": [
    "df_test3.head()"
   ]
  },
  {
   "cell_type": "code",
   "execution_count": 38,
   "metadata": {},
   "outputs": [],
   "source": [
    "kaggle_answer = pd.DataFrame({'srch_id': df_test3['srch_id'],\n",
    "                             'prop_id': df_test3['prop_id']})\n",
    "kaggle_answer.to_csv('expedia_answer.csv', index=False)"
   ]
  },
  {
   "cell_type": "markdown",
   "metadata": {},
   "source": [
    "## Tot hierboven is wat ik nu gedaan heb, rest is nog van daarvoor"
   ]
  },
  {
   "cell_type": "markdown",
   "metadata": {},
   "source": [
    "Geen NA's meer nu. Is nog wel te veel data om chill mee te kunnen werken, dus heb de data naar een vijfde gedownsampled, dus van 199795 naar 40000 search id's. Is denk ik nog steeds genoeg data om goed mee te kunnen werken en we kunnen op het einde wel weer op de volledige data het model trainen"
   ]
  },
  {
   "cell_type": "code",
   "execution_count": null,
   "metadata": {},
   "outputs": [],
   "source": [
    "a = np.asarray(list(set(df_no_na['srch_id'].values))) # 199795 unique searches\n",
    "\n",
    "np.random.seed(15)\n",
    "subset_users = np.random.choice(a, size=40000, replace=False) # downsample to 40000\n",
    "\n",
    "subset_df = df_no_na.loc[df_no_na['srch_id'].isin(subset_users)]\n",
    "subset_df.info() # van 4958347 naar 996086 values"
   ]
  },
  {
   "cell_type": "code",
   "execution_count": null,
   "metadata": {
    "scrolled": true
   },
   "outputs": [],
   "source": [
    "subset_df.describe()"
   ]
  },
  {
   "cell_type": "code",
   "execution_count": null,
   "metadata": {},
   "outputs": [],
   "source": [
    "corr_matrix = subset_df.corr()"
   ]
  },
  {
   "cell_type": "code",
   "execution_count": null,
   "metadata": {},
   "outputs": [],
   "source": [
    "corr_matrix['click_bool']"
   ]
  },
  {
   "cell_type": "code",
   "execution_count": null,
   "metadata": {
    "scrolled": true
   },
   "outputs": [],
   "source": [
    "print(subset_df['click_bool'].value_counts(normalize=True))\n",
    "print(subset_df['booking_bool'].value_counts(normalize=True))"
   ]
  },
  {
   "cell_type": "markdown",
   "metadata": {},
   "source": [
    "Op maar 4.4% van de hotels wordt geklikt, en 2.8% krijgt een booking"
   ]
  },
  {
   "cell_type": "code",
   "execution_count": null,
   "metadata": {
    "scrolled": true
   },
   "outputs": [],
   "source": [
    "sns.barplot(subset_df['prop_starrating'], subset_df['click_bool'])"
   ]
  },
  {
   "cell_type": "markdown",
   "metadata": {},
   "source": [
    "Er wordt het meest geklikt op een 4-sterren hotel, maar alsnog maar 5% van die hotels."
   ]
  },
  {
   "cell_type": "code",
   "execution_count": null,
   "metadata": {
    "scrolled": true
   },
   "outputs": [],
   "source": [
    "clicked = subset_df[subset_df['click_bool'] == 1]\n",
    "\n",
    "sns.barplot(clicked['position'], clicked['booking_bool'])"
   ]
  },
  {
   "cell_type": "markdown",
   "metadata": {},
   "source": [
    "Hogere positie = meer kans om geboekt te worden bij hotels waarop geklikt is"
   ]
  }
 ],
 "metadata": {
  "kernelspec": {
   "display_name": "Python 3",
   "language": "python",
   "name": "python3"
  },
  "language_info": {
   "codemirror_mode": {
    "name": "ipython",
    "version": 3
   },
   "file_extension": ".py",
   "mimetype": "text/x-python",
   "name": "python",
   "nbconvert_exporter": "python",
   "pygments_lexer": "ipython3",
   "version": "3.7.1"
  }
 },
 "nbformat": 4,
 "nbformat_minor": 2
}
